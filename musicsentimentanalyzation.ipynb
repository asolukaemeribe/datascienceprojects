{
  "cells": [
    {
      "cell_type": "markdown",
      "metadata": {
        "id": "Wt8bpgIc5hXA"
      },
      "source": [
        "#CIS545 Group Project\n",
        "Asoluka Emeribe, Eloi Divol, and Gabrielle Bioteau<br>\n",
        "December 12, 2022"
      ]
    },
    {
      "cell_type": "markdown",
      "metadata": {
        "id": "-I-X5htX5kjv"
      },
      "source": [
        "#Motivation\n",
        "In essence, the goal of this project is to comprehensively explore the link between emotions in song popularity. We will do this through using the nltk library to examine sentiment of songs. We are all interested in Music in general, with over 100k minutes of listening per year each. This project was a way for us to delve into that a bit more seriously. By analyzing a large dataset of popular music in Brazil, we aim to see if there are any trends that differentaite genres, artists, and success in the industry, and if those differences are something we can build into a comprehensive model."
      ]
    },
    {
      "cell_type": "markdown",
      "metadata": {
        "id": "PwFo-QAz6tO-"
      },
      "source": [
        "#Imports"
      ]
    },
    {
      "cell_type": "code",
      "execution_count": null,
      "metadata": {
        "id": "nEyIIx5G68M_"
      },
      "outputs": [],
      "source": [
        "#Importing all relevent libraries\n",
        "import json\n",
        "import glob\n",
        "import pandas as pd\n",
        "import numpy as np\n",
        "import datetime as dt\n",
        "import re\n",
        "import os\n",
        "import matplotlib.pyplot as plt\n",
        "import seaborn as sns\n",
        "from matplotlib import cm\n",
        "from google.colab import drive\n",
        "from sklearn.linear_model import LinearRegression\n",
        "from sklearn.model_selection import train_test_split\n",
        "import nltk\n",
        "from nltk.corpus import stopwords\n",
        "from nltk.sentiment import SentimentIntensityAnalyzer\n",
        "from sklearn.metrics import r2_score\n",
        "from sklearn.linear_model import LogisticRegression\n",
        "from sklearn.ensemble import RandomForestClassifier\n",
        "from sklearn import metrics\n",
        "from sklearn.neighbors import KNeighborsClassifier\n",
        "from sklearn.tree import DecisionTreeClassifier\n",
        "from sklearn.metrics import confusion_matrix\n",
        "from sklearn.datasets import load_digits\n",
        "from sklearn.decomposition import PCA\n",
        "from sklearn.cluster import KMeans"
      ]
    },
    {
      "cell_type": "code",
      "execution_count": null,
      "metadata": {
        "colab": {
          "base_uri": "https://localhost:8080/"
        },
        "id": "YyXJcvDY6Hk5",
        "outputId": "6788a427-7872-4343-f484-4efa4b6f79a9"
      },
      "outputs": [
        {
          "name": "stdout",
          "output_type": "stream",
          "text": [
            "Mounted at /content/drive\n"
          ]
        }
      ],
      "source": [
        "#connecting to google drive\n",
        "from google.colab import drive\n",
        "drive.mount('/content/drive')"
      ]
    },
    {
      "cell_type": "code",
      "execution_count": null,
      "metadata": {
        "colab": {
          "base_uri": "https://localhost:8080/"
        },
        "id": "san8Dwr16SFk",
        "outputId": "85234ae6-70ab-4b7f-8d4a-5d4e37a3e4d7"
      },
      "outputs": [
        {
          "name": "stdout",
          "output_type": "stream",
          "text": [
            "Looking in indexes: https://pypi.org/simple, https://us-python.pkg.dev/colab-wheels/public/simple/\n",
            "Requirement already satisfied: kaggle in /usr/local/lib/python3.8/dist-packages (1.5.12)\n",
            "Requirement already satisfied: certifi in /usr/local/lib/python3.8/dist-packages (from kaggle) (2022.9.24)\n",
            "Requirement already satisfied: python-dateutil in /usr/local/lib/python3.8/dist-packages (from kaggle) (2.8.2)\n",
            "Requirement already satisfied: tqdm in /usr/local/lib/python3.8/dist-packages (from kaggle) (4.64.1)\n",
            "Requirement already satisfied: six>=1.10 in /usr/local/lib/python3.8/dist-packages (from kaggle) (1.15.0)\n",
            "Requirement already satisfied: urllib3 in /usr/local/lib/python3.8/dist-packages (from kaggle) (1.24.3)\n",
            "Requirement already satisfied: python-slugify in /usr/local/lib/python3.8/dist-packages (from kaggle) (7.0.0)\n",
            "Requirement already satisfied: requests in /usr/local/lib/python3.8/dist-packages (from kaggle) (2.23.0)\n",
            "Requirement already satisfied: text-unidecode>=1.3 in /usr/local/lib/python3.8/dist-packages (from python-slugify->kaggle) (1.3)\n",
            "Requirement already satisfied: idna<3,>=2.5 in /usr/local/lib/python3.8/dist-packages (from requests->kaggle) (2.10)\n",
            "Requirement already satisfied: chardet<4,>=3.0.2 in /usr/local/lib/python3.8/dist-packages (from requests->kaggle) (3.0.4)\n",
            "Downloading scrapped-lyrics-from-6-genres.zip to /content\n",
            " 99% 128M/129M [00:03<00:00, 34.1MB/s]\n",
            "100% 129M/129M [00:03<00:00, 35.0MB/s]\n",
            "Archive:  scrapped-lyrics-from-6-genres.zip\n",
            "  inflating: artists-data.csv        \n",
            "  inflating: lyrics-data.csv         \n"
          ]
        }
      ],
      "source": [
        "#loading data\n",
        "!pip install kaggle\n",
        "!mkdir ~/.kaggle\n",
        "!cp /content/drive/MyDrive/kaggle.json ~/.kaggle/\n",
        "!kaggle datasets download -d neisse/scrapped-lyrics-from-6-genres\n",
        "!unzip scrapped-lyrics-from-6-genres.zip"
      ]
    },
    {
      "cell_type": "markdown",
      "metadata": {
        "id": "k5FgR-kN680N"
      },
      "source": [
        "#Artists Dataset\n",
        "\n",
        "This dataset contains the name of artists of 4,168 unique artists, the genres that their music falls into, the number of songs they have, and their popularity."
      ]
    },
    {
      "cell_type": "code",
      "execution_count": null,
      "metadata": {
        "colab": {
          "base_uri": "https://localhost:8080/",
          "height": 206
        },
        "id": "lfG-HMIj6j_u",
        "outputId": "dabaad2c-9179-49ee-d136-8ab0e7cf690f"
      },
      "outputs": [
        {
          "data": {
            "text/html": [
              "\n",
              "  <div id=\"df-991f7012-baf2-49c0-a17b-325e403a0ebd\">\n",
              "    <div class=\"colab-df-container\">\n",
              "      <div>\n",
              "<style scoped>\n",
              "    .dataframe tbody tr th:only-of-type {\n",
              "        vertical-align: middle;\n",
              "    }\n",
              "\n",
              "    .dataframe tbody tr th {\n",
              "        vertical-align: top;\n",
              "    }\n",
              "\n",
              "    .dataframe thead th {\n",
              "        text-align: right;\n",
              "    }\n",
              "</style>\n",
              "<table border=\"1\" class=\"dataframe\">\n",
              "  <thead>\n",
              "    <tr style=\"text-align: right;\">\n",
              "      <th></th>\n",
              "      <th>Artist</th>\n",
              "      <th>Genres</th>\n",
              "      <th>Songs</th>\n",
              "      <th>Popularity</th>\n",
              "      <th>Link</th>\n",
              "    </tr>\n",
              "  </thead>\n",
              "  <tbody>\n",
              "    <tr>\n",
              "      <th>0</th>\n",
              "      <td>Ivete Sangalo</td>\n",
              "      <td>Pop; Axé; Romântico</td>\n",
              "      <td>313.0</td>\n",
              "      <td>4.4</td>\n",
              "      <td>/ivete-sangalo/</td>\n",
              "    </tr>\n",
              "    <tr>\n",
              "      <th>1</th>\n",
              "      <td>Chiclete com Banana</td>\n",
              "      <td>Axé</td>\n",
              "      <td>268.0</td>\n",
              "      <td>3.8</td>\n",
              "      <td>/chiclete-com-banana/</td>\n",
              "    </tr>\n",
              "    <tr>\n",
              "      <th>2</th>\n",
              "      <td>Banda Eva</td>\n",
              "      <td>Axé; Romântico; Reggae</td>\n",
              "      <td>215.0</td>\n",
              "      <td>2.3</td>\n",
              "      <td>/banda-eva/</td>\n",
              "    </tr>\n",
              "    <tr>\n",
              "      <th>3</th>\n",
              "      <td>É O Tchan</td>\n",
              "      <td>Axé</td>\n",
              "      <td>129.0</td>\n",
              "      <td>1.6</td>\n",
              "      <td>/e-o-tchan/</td>\n",
              "    </tr>\n",
              "    <tr>\n",
              "      <th>4</th>\n",
              "      <td>Claudia Leitte</td>\n",
              "      <td>Pop; Axé; Romântico</td>\n",
              "      <td>167.0</td>\n",
              "      <td>1.5</td>\n",
              "      <td>/claudia-leitte/</td>\n",
              "    </tr>\n",
              "  </tbody>\n",
              "</table>\n",
              "</div>\n",
              "      <button class=\"colab-df-convert\" onclick=\"convertToInteractive('df-991f7012-baf2-49c0-a17b-325e403a0ebd')\"\n",
              "              title=\"Convert this dataframe to an interactive table.\"\n",
              "              style=\"display:none;\">\n",
              "        \n",
              "  <svg xmlns=\"http://www.w3.org/2000/svg\" height=\"24px\"viewBox=\"0 0 24 24\"\n",
              "       width=\"24px\">\n",
              "    <path d=\"M0 0h24v24H0V0z\" fill=\"none\"/>\n",
              "    <path d=\"M18.56 5.44l.94 2.06.94-2.06 2.06-.94-2.06-.94-.94-2.06-.94 2.06-2.06.94zm-11 1L8.5 8.5l.94-2.06 2.06-.94-2.06-.94L8.5 2.5l-.94 2.06-2.06.94zm10 10l.94 2.06.94-2.06 2.06-.94-2.06-.94-.94-2.06-.94 2.06-2.06.94z\"/><path d=\"M17.41 7.96l-1.37-1.37c-.4-.4-.92-.59-1.43-.59-.52 0-1.04.2-1.43.59L10.3 9.45l-7.72 7.72c-.78.78-.78 2.05 0 2.83L4 21.41c.39.39.9.59 1.41.59.51 0 1.02-.2 1.41-.59l7.78-7.78 2.81-2.81c.8-.78.8-2.07 0-2.86zM5.41 20L4 18.59l7.72-7.72 1.47 1.35L5.41 20z\"/>\n",
              "  </svg>\n",
              "      </button>\n",
              "      \n",
              "  <style>\n",
              "    .colab-df-container {\n",
              "      display:flex;\n",
              "      flex-wrap:wrap;\n",
              "      gap: 12px;\n",
              "    }\n",
              "\n",
              "    .colab-df-convert {\n",
              "      background-color: #E8F0FE;\n",
              "      border: none;\n",
              "      border-radius: 50%;\n",
              "      cursor: pointer;\n",
              "      display: none;\n",
              "      fill: #1967D2;\n",
              "      height: 32px;\n",
              "      padding: 0 0 0 0;\n",
              "      width: 32px;\n",
              "    }\n",
              "\n",
              "    .colab-df-convert:hover {\n",
              "      background-color: #E2EBFA;\n",
              "      box-shadow: 0px 1px 2px rgba(60, 64, 67, 0.3), 0px 1px 3px 1px rgba(60, 64, 67, 0.15);\n",
              "      fill: #174EA6;\n",
              "    }\n",
              "\n",
              "    [theme=dark] .colab-df-convert {\n",
              "      background-color: #3B4455;\n",
              "      fill: #D2E3FC;\n",
              "    }\n",
              "\n",
              "    [theme=dark] .colab-df-convert:hover {\n",
              "      background-color: #434B5C;\n",
              "      box-shadow: 0px 1px 3px 1px rgba(0, 0, 0, 0.15);\n",
              "      filter: drop-shadow(0px 1px 2px rgba(0, 0, 0, 0.3));\n",
              "      fill: #FFFFFF;\n",
              "    }\n",
              "  </style>\n",
              "\n",
              "      <script>\n",
              "        const buttonEl =\n",
              "          document.querySelector('#df-991f7012-baf2-49c0-a17b-325e403a0ebd button.colab-df-convert');\n",
              "        buttonEl.style.display =\n",
              "          google.colab.kernel.accessAllowed ? 'block' : 'none';\n",
              "\n",
              "        async function convertToInteractive(key) {\n",
              "          const element = document.querySelector('#df-991f7012-baf2-49c0-a17b-325e403a0ebd');\n",
              "          const dataTable =\n",
              "            await google.colab.kernel.invokeFunction('convertToInteractive',\n",
              "                                                     [key], {});\n",
              "          if (!dataTable) return;\n",
              "\n",
              "          const docLinkHtml = 'Like what you see? Visit the ' +\n",
              "            '<a target=\"_blank\" href=https://colab.research.google.com/notebooks/data_table.ipynb>data table notebook</a>'\n",
              "            + ' to learn more about interactive tables.';\n",
              "          element.innerHTML = '';\n",
              "          dataTable['output_type'] = 'display_data';\n",
              "          await google.colab.output.renderOutput(dataTable, element);\n",
              "          const docLink = document.createElement('div');\n",
              "          docLink.innerHTML = docLinkHtml;\n",
              "          element.appendChild(docLink);\n",
              "        }\n",
              "      </script>\n",
              "    </div>\n",
              "  </div>\n",
              "  "
            ],
            "text/plain": [
              "                Artist                  Genres  Songs  Popularity  \\\n",
              "0        Ivete Sangalo     Pop; Axé; Romântico  313.0         4.4   \n",
              "1  Chiclete com Banana                     Axé  268.0         3.8   \n",
              "2            Banda Eva  Axé; Romântico; Reggae  215.0         2.3   \n",
              "3            É O Tchan                     Axé  129.0         1.6   \n",
              "4       Claudia Leitte     Pop; Axé; Romântico  167.0         1.5   \n",
              "\n",
              "                    Link  \n",
              "0        /ivete-sangalo/  \n",
              "1  /chiclete-com-banana/  \n",
              "2            /banda-eva/  \n",
              "3            /e-o-tchan/  \n",
              "4       /claudia-leitte/  "
            ]
          },
          "execution_count": 4,
          "metadata": {},
          "output_type": "execute_result"
        }
      ],
      "source": [
        "#create artists dataframe\n",
        "df_artists = pd.read_csv('artists-data.csv')\n",
        "df_artists.head()"
      ]
    },
    {
      "cell_type": "markdown",
      "metadata": {
        "id": "85uUriJv8_hE"
      },
      "source": [
        "Data cleaning:\n",
        "\n",
        "We are examining the type of the values as well as checking if there are any null values that need to be droped. There are a few, so we will need to drop them. "
      ]
    },
    {
      "cell_type": "code",
      "execution_count": null,
      "metadata": {
        "colab": {
          "base_uri": "https://localhost:8080/"
        },
        "id": "G85Nrtob9D5X",
        "outputId": "451bbb35-2ea5-4d51-9984-c6c24feb61ab"
      },
      "outputs": [
        {
          "name": "stdout",
          "output_type": "stream",
          "text": [
            "<class 'pandas.core.frame.DataFrame'>\n",
            "RangeIndex: 4168 entries, 0 to 4167\n",
            "Data columns (total 5 columns):\n",
            " #   Column      Non-Null Count  Dtype  \n",
            "---  ------      --------------  -----  \n",
            " 0   Artist      4167 non-null   object \n",
            " 1   Genres      4163 non-null   object \n",
            " 2   Songs       4167 non-null   float64\n",
            " 3   Popularity  4166 non-null   float64\n",
            " 4   Link        4167 non-null   object \n",
            "dtypes: float64(2), object(3)\n",
            "memory usage: 162.9+ KB\n"
          ]
        }
      ],
      "source": [
        "df_artists.info()"
      ]
    },
    {
      "cell_type": "code",
      "execution_count": null,
      "metadata": {
        "colab": {
          "base_uri": "https://localhost:8080/",
          "height": 121
        },
        "id": "cdLuyYix9Is2",
        "outputId": "dfc6e23e-b861-41b4-8cd8-b44f25e42b5d"
      },
      "outputs": [
        {
          "data": {
            "text/plain": [
              "Artist        1\n",
              "Genres        5\n",
              "Songs         1\n",
              "Popularity    2\n",
              "Link          1\n",
              "dtype: int64"
            ]
          },
          "metadata": {},
          "output_type": "display_data"
        }
      ],
      "source": [
        "#there are a few nulls\n",
        "display(df_artists.isnull().sum()) "
      ]
    },
    {
      "cell_type": "code",
      "execution_count": null,
      "metadata": {
        "id": "eaP_tV3vOO7X"
      },
      "outputs": [],
      "source": [
        "df_artists.dropna(inplace=True)"
      ]
    },
    {
      "cell_type": "code",
      "execution_count": null,
      "metadata": {
        "colab": {
          "base_uri": "https://localhost:8080/"
        },
        "id": "18-FPcgwBAtT",
        "outputId": "f5a7dacf-a440-4aae-daa0-20a415fa2d3a"
      },
      "outputs": [
        {
          "data": {
            "text/plain": [
              "<bound method IndexOpsMixin.value_counts of 0                   Pop; Axé; Romântico\n",
              "1                                   Axé\n",
              "2                Axé; Romântico; Reggae\n",
              "3                                   Axé\n",
              "4                   Pop; Axé; Romântico\n",
              "                     ...               \n",
              "4163    World Music; Black Music; Blues\n",
              "4164                        World Music\n",
              "4165                        World Music\n",
              "4166      World Music; Gospel/Religioso\n",
              "4167      World Music; Gospel/Religioso\n",
              "Name: Genres, Length: 4162, dtype: object>"
            ]
          },
          "execution_count": 8,
          "metadata": {},
          "output_type": "execute_result"
        }
      ],
      "source": [
        "df_artists['Genres'].value_counts"
      ]
    },
    {
      "cell_type": "markdown",
      "metadata": {
        "id": "6HDecQ3L7GSn"
      },
      "source": [
        "#Lyrics Dataset\n",
        "\n",
        "This dataset contains the name of the 380k distinct songs along with language information and uncleaned lyric data."
      ]
    },
    {
      "cell_type": "code",
      "execution_count": null,
      "metadata": {
        "colab": {
          "base_uri": "https://localhost:8080/",
          "height": 206
        },
        "id": "KSe7Tqzr7IsH",
        "outputId": "80ab7fd6-f90b-47fd-b17c-568f5a4aa0bf"
      },
      "outputs": [
        {
          "data": {
            "text/html": [
              "\n",
              "  <div id=\"df-37f8e05e-5fa0-4b65-b6da-57114798bf3d\">\n",
              "    <div class=\"colab-df-container\">\n",
              "      <div>\n",
              "<style scoped>\n",
              "    .dataframe tbody tr th:only-of-type {\n",
              "        vertical-align: middle;\n",
              "    }\n",
              "\n",
              "    .dataframe tbody tr th {\n",
              "        vertical-align: top;\n",
              "    }\n",
              "\n",
              "    .dataframe thead th {\n",
              "        text-align: right;\n",
              "    }\n",
              "</style>\n",
              "<table border=\"1\" class=\"dataframe\">\n",
              "  <thead>\n",
              "    <tr style=\"text-align: right;\">\n",
              "      <th></th>\n",
              "      <th>ALink</th>\n",
              "      <th>SName</th>\n",
              "      <th>SLink</th>\n",
              "      <th>Lyric</th>\n",
              "      <th>language</th>\n",
              "    </tr>\n",
              "  </thead>\n",
              "  <tbody>\n",
              "    <tr>\n",
              "      <th>0</th>\n",
              "      <td>/ivete-sangalo/</td>\n",
              "      <td>Arerê</td>\n",
              "      <td>/ivete-sangalo/arere.html</td>\n",
              "      <td>Tudo o que eu quero nessa vida,\\nToda vida, é\\...</td>\n",
              "      <td>pt</td>\n",
              "    </tr>\n",
              "    <tr>\n",
              "      <th>1</th>\n",
              "      <td>/ivete-sangalo/</td>\n",
              "      <td>Se Eu Não Te Amasse Tanto Assim</td>\n",
              "      <td>/ivete-sangalo/se-eu-nao-te-amasse-tanto-assim...</td>\n",
              "      <td>Meu coração\\nSem direção\\nVoando só por voar\\n...</td>\n",
              "      <td>pt</td>\n",
              "    </tr>\n",
              "    <tr>\n",
              "      <th>2</th>\n",
              "      <td>/ivete-sangalo/</td>\n",
              "      <td>Céu da Boca</td>\n",
              "      <td>/ivete-sangalo/chupa-toda.html</td>\n",
              "      <td>É de babaixá!\\nÉ de balacubaca!\\nÉ de babaixá!...</td>\n",
              "      <td>pt</td>\n",
              "    </tr>\n",
              "    <tr>\n",
              "      <th>3</th>\n",
              "      <td>/ivete-sangalo/</td>\n",
              "      <td>Quando A Chuva Passar</td>\n",
              "      <td>/ivete-sangalo/quando-a-chuva-passar.html</td>\n",
              "      <td>Quando a chuva passar\\n\\nPra quê falar\\nSe voc...</td>\n",
              "      <td>pt</td>\n",
              "    </tr>\n",
              "    <tr>\n",
              "      <th>4</th>\n",
              "      <td>/ivete-sangalo/</td>\n",
              "      <td>Sorte Grande</td>\n",
              "      <td>/ivete-sangalo/sorte-grande.html</td>\n",
              "      <td>A minha sorte grande foi você cair do céu\\nMin...</td>\n",
              "      <td>pt</td>\n",
              "    </tr>\n",
              "  </tbody>\n",
              "</table>\n",
              "</div>\n",
              "      <button class=\"colab-df-convert\" onclick=\"convertToInteractive('df-37f8e05e-5fa0-4b65-b6da-57114798bf3d')\"\n",
              "              title=\"Convert this dataframe to an interactive table.\"\n",
              "              style=\"display:none;\">\n",
              "        \n",
              "  <svg xmlns=\"http://www.w3.org/2000/svg\" height=\"24px\"viewBox=\"0 0 24 24\"\n",
              "       width=\"24px\">\n",
              "    <path d=\"M0 0h24v24H0V0z\" fill=\"none\"/>\n",
              "    <path d=\"M18.56 5.44l.94 2.06.94-2.06 2.06-.94-2.06-.94-.94-2.06-.94 2.06-2.06.94zm-11 1L8.5 8.5l.94-2.06 2.06-.94-2.06-.94L8.5 2.5l-.94 2.06-2.06.94zm10 10l.94 2.06.94-2.06 2.06-.94-2.06-.94-.94-2.06-.94 2.06-2.06.94z\"/><path d=\"M17.41 7.96l-1.37-1.37c-.4-.4-.92-.59-1.43-.59-.52 0-1.04.2-1.43.59L10.3 9.45l-7.72 7.72c-.78.78-.78 2.05 0 2.83L4 21.41c.39.39.9.59 1.41.59.51 0 1.02-.2 1.41-.59l7.78-7.78 2.81-2.81c.8-.78.8-2.07 0-2.86zM5.41 20L4 18.59l7.72-7.72 1.47 1.35L5.41 20z\"/>\n",
              "  </svg>\n",
              "      </button>\n",
              "      \n",
              "  <style>\n",
              "    .colab-df-container {\n",
              "      display:flex;\n",
              "      flex-wrap:wrap;\n",
              "      gap: 12px;\n",
              "    }\n",
              "\n",
              "    .colab-df-convert {\n",
              "      background-color: #E8F0FE;\n",
              "      border: none;\n",
              "      border-radius: 50%;\n",
              "      cursor: pointer;\n",
              "      display: none;\n",
              "      fill: #1967D2;\n",
              "      height: 32px;\n",
              "      padding: 0 0 0 0;\n",
              "      width: 32px;\n",
              "    }\n",
              "\n",
              "    .colab-df-convert:hover {\n",
              "      background-color: #E2EBFA;\n",
              "      box-shadow: 0px 1px 2px rgba(60, 64, 67, 0.3), 0px 1px 3px 1px rgba(60, 64, 67, 0.15);\n",
              "      fill: #174EA6;\n",
              "    }\n",
              "\n",
              "    [theme=dark] .colab-df-convert {\n",
              "      background-color: #3B4455;\n",
              "      fill: #D2E3FC;\n",
              "    }\n",
              "\n",
              "    [theme=dark] .colab-df-convert:hover {\n",
              "      background-color: #434B5C;\n",
              "      box-shadow: 0px 1px 3px 1px rgba(0, 0, 0, 0.15);\n",
              "      filter: drop-shadow(0px 1px 2px rgba(0, 0, 0, 0.3));\n",
              "      fill: #FFFFFF;\n",
              "    }\n",
              "  </style>\n",
              "\n",
              "      <script>\n",
              "        const buttonEl =\n",
              "          document.querySelector('#df-37f8e05e-5fa0-4b65-b6da-57114798bf3d button.colab-df-convert');\n",
              "        buttonEl.style.display =\n",
              "          google.colab.kernel.accessAllowed ? 'block' : 'none';\n",
              "\n",
              "        async function convertToInteractive(key) {\n",
              "          const element = document.querySelector('#df-37f8e05e-5fa0-4b65-b6da-57114798bf3d');\n",
              "          const dataTable =\n",
              "            await google.colab.kernel.invokeFunction('convertToInteractive',\n",
              "                                                     [key], {});\n",
              "          if (!dataTable) return;\n",
              "\n",
              "          const docLinkHtml = 'Like what you see? Visit the ' +\n",
              "            '<a target=\"_blank\" href=https://colab.research.google.com/notebooks/data_table.ipynb>data table notebook</a>'\n",
              "            + ' to learn more about interactive tables.';\n",
              "          element.innerHTML = '';\n",
              "          dataTable['output_type'] = 'display_data';\n",
              "          await google.colab.output.renderOutput(dataTable, element);\n",
              "          const docLink = document.createElement('div');\n",
              "          docLink.innerHTML = docLinkHtml;\n",
              "          element.appendChild(docLink);\n",
              "        }\n",
              "      </script>\n",
              "    </div>\n",
              "  </div>\n",
              "  "
            ],
            "text/plain": [
              "             ALink                            SName  \\\n",
              "0  /ivete-sangalo/                            Arerê   \n",
              "1  /ivete-sangalo/  Se Eu Não Te Amasse Tanto Assim   \n",
              "2  /ivete-sangalo/                      Céu da Boca   \n",
              "3  /ivete-sangalo/            Quando A Chuva Passar   \n",
              "4  /ivete-sangalo/                     Sorte Grande   \n",
              "\n",
              "                                               SLink  \\\n",
              "0                          /ivete-sangalo/arere.html   \n",
              "1  /ivete-sangalo/se-eu-nao-te-amasse-tanto-assim...   \n",
              "2                     /ivete-sangalo/chupa-toda.html   \n",
              "3          /ivete-sangalo/quando-a-chuva-passar.html   \n",
              "4                   /ivete-sangalo/sorte-grande.html   \n",
              "\n",
              "                                               Lyric language  \n",
              "0  Tudo o que eu quero nessa vida,\\nToda vida, é\\...       pt  \n",
              "1  Meu coração\\nSem direção\\nVoando só por voar\\n...       pt  \n",
              "2  É de babaixá!\\nÉ de balacubaca!\\nÉ de babaixá!...       pt  \n",
              "3  Quando a chuva passar\\n\\nPra quê falar\\nSe voc...       pt  \n",
              "4  A minha sorte grande foi você cair do céu\\nMin...       pt  "
            ]
          },
          "execution_count": 9,
          "metadata": {},
          "output_type": "execute_result"
        }
      ],
      "source": [
        "#create lyrics dataframe\n",
        "df_lyrics = pd.read_csv('lyrics-data.csv')\n",
        "df_lyrics.head()"
      ]
    },
    {
      "cell_type": "markdown",
      "metadata": {
        "id": "5h8Jfpcr6w6-"
      },
      "source": [
        "Data cleaning:\n",
        "\n",
        "We are examining the type of the values as well as checking if there are any null values that need to be dropped. There are a few, so we will drop them. For this project, we want to analyze songs that are in english, so we will drop rows that are not in english."
      ]
    },
    {
      "cell_type": "code",
      "execution_count": null,
      "metadata": {
        "colab": {
          "base_uri": "https://localhost:8080/"
        },
        "id": "yobJczx27wou",
        "outputId": "2f5754e4-9eac-48ca-fd25-1f308260c4de"
      },
      "outputs": [
        {
          "name": "stdout",
          "output_type": "stream",
          "text": [
            "<class 'pandas.core.frame.DataFrame'>\n",
            "RangeIndex: 379931 entries, 0 to 379930\n",
            "Data columns (total 5 columns):\n",
            " #   Column    Non-Null Count   Dtype \n",
            "---  ------    --------------   ----- \n",
            " 0   ALink     379930 non-null  object\n",
            " 1   SName     379928 non-null  object\n",
            " 2   SLink     379930 non-null  object\n",
            " 3   Lyric     379854 non-null  object\n",
            " 4   language  365296 non-null  object\n",
            "dtypes: object(5)\n",
            "memory usage: 14.5+ MB\n"
          ]
        }
      ],
      "source": [
        "df_lyrics.info()"
      ]
    },
    {
      "cell_type": "code",
      "execution_count": null,
      "metadata": {
        "colab": {
          "base_uri": "https://localhost:8080/",
          "height": 121
        },
        "id": "pcye0wIG7bd2",
        "outputId": "86d0cd4a-c95c-4849-aa84-bcceb4dc3dd4"
      },
      "outputs": [
        {
          "data": {
            "text/plain": [
              "ALink           1\n",
              "SName           3\n",
              "SLink           1\n",
              "Lyric          77\n",
              "language    14635\n",
              "dtype: int64"
            ]
          },
          "metadata": {},
          "output_type": "display_data"
        }
      ],
      "source": [
        "#indicates there are a few nulls\n",
        "display(df_lyrics.isnull().sum()) "
      ]
    },
    {
      "cell_type": "code",
      "execution_count": null,
      "metadata": {
        "id": "mgb5TSgW_FRI"
      },
      "outputs": [],
      "source": [
        "df_lyrics.dropna(inplace=True)"
      ]
    },
    {
      "cell_type": "code",
      "execution_count": null,
      "metadata": {
        "id": "Hjm7sbFO99F7"
      },
      "outputs": [],
      "source": [
        "#Filter for english\n",
        "df_lyrics = df_lyrics[df_lyrics[\"language\"] == \"en\"]"
      ]
    },
    {
      "cell_type": "markdown",
      "metadata": {
        "id": "2Eu8WCyy7O6S"
      },
      "source": [
        "#Joined Dataset\n",
        "\n",
        "We want to join the data sets (we join on Link(df_artists) and ALink(df_lyrics)) so that we can correlate fields from df_artists and df_lyrics. We also perfomred cleaning on the Lyric column by taking out newline characters that would not be relevant to our final result and creating a df_exploded that split up the Genres column to distinguish distinct genres."
      ]
    },
    {
      "cell_type": "code",
      "execution_count": null,
      "metadata": {
        "colab": {
          "base_uri": "https://localhost:8080/",
          "height": 641
        },
        "id": "D-XRjdZY7La0",
        "outputId": "6a29fe16-148d-4d1e-821d-700b4cff352d"
      },
      "outputs": [
        {
          "data": {
            "text/html": [
              "\n",
              "  <div id=\"df-3e7d08e6-31ca-4b72-97ce-9b2fb4648fef\">\n",
              "    <div class=\"colab-df-container\">\n",
              "      <div>\n",
              "<style scoped>\n",
              "    .dataframe tbody tr th:only-of-type {\n",
              "        vertical-align: middle;\n",
              "    }\n",
              "\n",
              "    .dataframe tbody tr th {\n",
              "        vertical-align: top;\n",
              "    }\n",
              "\n",
              "    .dataframe thead th {\n",
              "        text-align: right;\n",
              "    }\n",
              "</style>\n",
              "<table border=\"1\" class=\"dataframe\">\n",
              "  <thead>\n",
              "    <tr style=\"text-align: right;\">\n",
              "      <th></th>\n",
              "      <th>Artist</th>\n",
              "      <th>Genres</th>\n",
              "      <th>Songs</th>\n",
              "      <th>Popularity</th>\n",
              "      <th>SName</th>\n",
              "      <th>Lyric</th>\n",
              "      <th>language</th>\n",
              "    </tr>\n",
              "  </thead>\n",
              "  <tbody>\n",
              "    <tr>\n",
              "      <th>0</th>\n",
              "      <td>Ivete Sangalo</td>\n",
              "      <td>Pop; Axé; Romântico</td>\n",
              "      <td>313.0</td>\n",
              "      <td>4.4</td>\n",
              "      <td>Careless Whisper</td>\n",
              "      <td>I feel so unsure\\nAs I take your hand and lead...</td>\n",
              "      <td>en</td>\n",
              "    </tr>\n",
              "    <tr>\n",
              "      <th>1</th>\n",
              "      <td>Ivete Sangalo</td>\n",
              "      <td>Pop; Axé; Romântico</td>\n",
              "      <td>313.0</td>\n",
              "      <td>4.4</td>\n",
              "      <td>Could You Be Loved / Citação Musical do Rap: S...</td>\n",
              "      <td>Don't let them fool, ya\\nOr even try to school...</td>\n",
              "      <td>en</td>\n",
              "    </tr>\n",
              "    <tr>\n",
              "      <th>2</th>\n",
              "      <td>Ivete Sangalo</td>\n",
              "      <td>Pop; Axé; Romântico</td>\n",
              "      <td>313.0</td>\n",
              "      <td>4.4</td>\n",
              "      <td>Cruisin' (Part. Saulo)</td>\n",
              "      <td>Baby, let's cruise, away from here\\nDon't be c...</td>\n",
              "      <td>en</td>\n",
              "    </tr>\n",
              "    <tr>\n",
              "      <th>3</th>\n",
              "      <td>Ivete Sangalo</td>\n",
              "      <td>Pop; Axé; Romântico</td>\n",
              "      <td>313.0</td>\n",
              "      <td>4.4</td>\n",
              "      <td>Easy</td>\n",
              "      <td>Know it sounds funny\\nBut, I just can't stand ...</td>\n",
              "      <td>en</td>\n",
              "    </tr>\n",
              "    <tr>\n",
              "      <th>4</th>\n",
              "      <td>Ivete Sangalo</td>\n",
              "      <td>Pop; Axé; Romântico</td>\n",
              "      <td>313.0</td>\n",
              "      <td>4.4</td>\n",
              "      <td>For Your Babies (The Voice cover)</td>\n",
              "      <td>You've got that look again\\nThe one I hoped I ...</td>\n",
              "      <td>en</td>\n",
              "    </tr>\n",
              "    <tr>\n",
              "      <th>...</th>\n",
              "      <td>...</td>\n",
              "      <td>...</td>\n",
              "      <td>...</td>\n",
              "      <td>...</td>\n",
              "      <td>...</td>\n",
              "      <td>...</td>\n",
              "      <td>...</td>\n",
              "    </tr>\n",
              "    <tr>\n",
              "      <th>191371</th>\n",
              "      <td>Johnny Clegg</td>\n",
              "      <td>World Music; Gospel/Religioso</td>\n",
              "      <td>34.0</td>\n",
              "      <td>0.0</td>\n",
              "      <td>The Waiting</td>\n",
              "      <td>Chorus\\nHere we stand waiting on the plain\\nDa...</td>\n",
              "      <td>en</td>\n",
              "    </tr>\n",
              "    <tr>\n",
              "      <th>191372</th>\n",
              "      <td>Johnny Clegg</td>\n",
              "      <td>World Music; Gospel/Religioso</td>\n",
              "      <td>34.0</td>\n",
              "      <td>0.0</td>\n",
              "      <td>Too Early For The Sky</td>\n",
              "      <td>I nearly disappeared into the mouth of a croco...</td>\n",
              "      <td>en</td>\n",
              "    </tr>\n",
              "    <tr>\n",
              "      <th>191373</th>\n",
              "      <td>Johnny Clegg</td>\n",
              "      <td>World Music; Gospel/Religioso</td>\n",
              "      <td>34.0</td>\n",
              "      <td>0.0</td>\n",
              "      <td>Warsaw 1943 (I Never Betrayed The Revolution)</td>\n",
              "      <td>Amambuka, amambuka azothengisa izwe lakithi, i...</td>\n",
              "      <td>en</td>\n",
              "    </tr>\n",
              "    <tr>\n",
              "      <th>191374</th>\n",
              "      <td>Johnny Clegg</td>\n",
              "      <td>World Music; Gospel/Religioso</td>\n",
              "      <td>34.0</td>\n",
              "      <td>0.0</td>\n",
              "      <td>When The System Has Fallen</td>\n",
              "      <td>Sweat in the heat for days on end\\nwaiting for...</td>\n",
              "      <td>en</td>\n",
              "    </tr>\n",
              "    <tr>\n",
              "      <th>191375</th>\n",
              "      <td>Johnny Clegg</td>\n",
              "      <td>World Music; Gospel/Religioso</td>\n",
              "      <td>34.0</td>\n",
              "      <td>0.0</td>\n",
              "      <td>Woman Be My Country</td>\n",
              "      <td>Here we stand on the edge of the day\\nFaces me...</td>\n",
              "      <td>en</td>\n",
              "    </tr>\n",
              "  </tbody>\n",
              "</table>\n",
              "<p>191376 rows × 7 columns</p>\n",
              "</div>\n",
              "      <button class=\"colab-df-convert\" onclick=\"convertToInteractive('df-3e7d08e6-31ca-4b72-97ce-9b2fb4648fef')\"\n",
              "              title=\"Convert this dataframe to an interactive table.\"\n",
              "              style=\"display:none;\">\n",
              "        \n",
              "  <svg xmlns=\"http://www.w3.org/2000/svg\" height=\"24px\"viewBox=\"0 0 24 24\"\n",
              "       width=\"24px\">\n",
              "    <path d=\"M0 0h24v24H0V0z\" fill=\"none\"/>\n",
              "    <path d=\"M18.56 5.44l.94 2.06.94-2.06 2.06-.94-2.06-.94-.94-2.06-.94 2.06-2.06.94zm-11 1L8.5 8.5l.94-2.06 2.06-.94-2.06-.94L8.5 2.5l-.94 2.06-2.06.94zm10 10l.94 2.06.94-2.06 2.06-.94-2.06-.94-.94-2.06-.94 2.06-2.06.94z\"/><path d=\"M17.41 7.96l-1.37-1.37c-.4-.4-.92-.59-1.43-.59-.52 0-1.04.2-1.43.59L10.3 9.45l-7.72 7.72c-.78.78-.78 2.05 0 2.83L4 21.41c.39.39.9.59 1.41.59.51 0 1.02-.2 1.41-.59l7.78-7.78 2.81-2.81c.8-.78.8-2.07 0-2.86zM5.41 20L4 18.59l7.72-7.72 1.47 1.35L5.41 20z\"/>\n",
              "  </svg>\n",
              "      </button>\n",
              "      \n",
              "  <style>\n",
              "    .colab-df-container {\n",
              "      display:flex;\n",
              "      flex-wrap:wrap;\n",
              "      gap: 12px;\n",
              "    }\n",
              "\n",
              "    .colab-df-convert {\n",
              "      background-color: #E8F0FE;\n",
              "      border: none;\n",
              "      border-radius: 50%;\n",
              "      cursor: pointer;\n",
              "      display: none;\n",
              "      fill: #1967D2;\n",
              "      height: 32px;\n",
              "      padding: 0 0 0 0;\n",
              "      width: 32px;\n",
              "    }\n",
              "\n",
              "    .colab-df-convert:hover {\n",
              "      background-color: #E2EBFA;\n",
              "      box-shadow: 0px 1px 2px rgba(60, 64, 67, 0.3), 0px 1px 3px 1px rgba(60, 64, 67, 0.15);\n",
              "      fill: #174EA6;\n",
              "    }\n",
              "\n",
              "    [theme=dark] .colab-df-convert {\n",
              "      background-color: #3B4455;\n",
              "      fill: #D2E3FC;\n",
              "    }\n",
              "\n",
              "    [theme=dark] .colab-df-convert:hover {\n",
              "      background-color: #434B5C;\n",
              "      box-shadow: 0px 1px 3px 1px rgba(0, 0, 0, 0.15);\n",
              "      filter: drop-shadow(0px 1px 2px rgba(0, 0, 0, 0.3));\n",
              "      fill: #FFFFFF;\n",
              "    }\n",
              "  </style>\n",
              "\n",
              "      <script>\n",
              "        const buttonEl =\n",
              "          document.querySelector('#df-3e7d08e6-31ca-4b72-97ce-9b2fb4648fef button.colab-df-convert');\n",
              "        buttonEl.style.display =\n",
              "          google.colab.kernel.accessAllowed ? 'block' : 'none';\n",
              "\n",
              "        async function convertToInteractive(key) {\n",
              "          const element = document.querySelector('#df-3e7d08e6-31ca-4b72-97ce-9b2fb4648fef');\n",
              "          const dataTable =\n",
              "            await google.colab.kernel.invokeFunction('convertToInteractive',\n",
              "                                                     [key], {});\n",
              "          if (!dataTable) return;\n",
              "\n",
              "          const docLinkHtml = 'Like what you see? Visit the ' +\n",
              "            '<a target=\"_blank\" href=https://colab.research.google.com/notebooks/data_table.ipynb>data table notebook</a>'\n",
              "            + ' to learn more about interactive tables.';\n",
              "          element.innerHTML = '';\n",
              "          dataTable['output_type'] = 'display_data';\n",
              "          await google.colab.output.renderOutput(dataTable, element);\n",
              "          const docLink = document.createElement('div');\n",
              "          docLink.innerHTML = docLinkHtml;\n",
              "          element.appendChild(docLink);\n",
              "        }\n",
              "      </script>\n",
              "    </div>\n",
              "  </div>\n",
              "  "
            ],
            "text/plain": [
              "               Artist                         Genres  Songs  Popularity  \\\n",
              "0       Ivete Sangalo            Pop; Axé; Romântico  313.0         4.4   \n",
              "1       Ivete Sangalo            Pop; Axé; Romântico  313.0         4.4   \n",
              "2       Ivete Sangalo            Pop; Axé; Romântico  313.0         4.4   \n",
              "3       Ivete Sangalo            Pop; Axé; Romântico  313.0         4.4   \n",
              "4       Ivete Sangalo            Pop; Axé; Romântico  313.0         4.4   \n",
              "...               ...                            ...    ...         ...   \n",
              "191371   Johnny Clegg  World Music; Gospel/Religioso   34.0         0.0   \n",
              "191372   Johnny Clegg  World Music; Gospel/Religioso   34.0         0.0   \n",
              "191373   Johnny Clegg  World Music; Gospel/Religioso   34.0         0.0   \n",
              "191374   Johnny Clegg  World Music; Gospel/Religioso   34.0         0.0   \n",
              "191375   Johnny Clegg  World Music; Gospel/Religioso   34.0         0.0   \n",
              "\n",
              "                                                    SName  \\\n",
              "0                                        Careless Whisper   \n",
              "1       Could You Be Loved / Citação Musical do Rap: S...   \n",
              "2                                  Cruisin' (Part. Saulo)   \n",
              "3                                                    Easy   \n",
              "4                       For Your Babies (The Voice cover)   \n",
              "...                                                   ...   \n",
              "191371                                        The Waiting   \n",
              "191372                              Too Early For The Sky   \n",
              "191373      Warsaw 1943 (I Never Betrayed The Revolution)   \n",
              "191374                         When The System Has Fallen   \n",
              "191375                                Woman Be My Country   \n",
              "\n",
              "                                                    Lyric language  \n",
              "0       I feel so unsure\\nAs I take your hand and lead...       en  \n",
              "1       Don't let them fool, ya\\nOr even try to school...       en  \n",
              "2       Baby, let's cruise, away from here\\nDon't be c...       en  \n",
              "3       Know it sounds funny\\nBut, I just can't stand ...       en  \n",
              "4       You've got that look again\\nThe one I hoped I ...       en  \n",
              "...                                                   ...      ...  \n",
              "191371  Chorus\\nHere we stand waiting on the plain\\nDa...       en  \n",
              "191372  I nearly disappeared into the mouth of a croco...       en  \n",
              "191373  Amambuka, amambuka azothengisa izwe lakithi, i...       en  \n",
              "191374  Sweat in the heat for days on end\\nwaiting for...       en  \n",
              "191375  Here we stand on the edge of the day\\nFaces me...       en  \n",
              "\n",
              "[191376 rows x 7 columns]"
            ]
          },
          "metadata": {},
          "output_type": "display_data"
        }
      ],
      "source": [
        "#Join datasets\n",
        "df_joined = pd.merge(df_artists, df_lyrics, left_on='Link', right_on='ALink', how='inner')\n",
        "\n",
        "#Extra Cleaning\n",
        "df_joined.drop(columns=[\"Link\", \"ALink\", \"SLink\"], inplace=True)\n",
        "display(df_joined)"
      ]
    },
    {
      "cell_type": "code",
      "execution_count": null,
      "metadata": {
        "colab": {
          "base_uri": "https://localhost:8080/",
          "height": 659
        },
        "id": "pjc5lhRDB3Mx",
        "outputId": "16bc3b3b-ead8-4df1-83a8-a8ccac57dde6"
      },
      "outputs": [
        {
          "data": {
            "text/html": [
              "\n",
              "  <div id=\"df-5e3980f8-9b31-46f4-b6d8-90b7e23942db\">\n",
              "    <div class=\"colab-df-container\">\n",
              "      <div>\n",
              "<style scoped>\n",
              "    .dataframe tbody tr th:only-of-type {\n",
              "        vertical-align: middle;\n",
              "    }\n",
              "\n",
              "    .dataframe tbody tr th {\n",
              "        vertical-align: top;\n",
              "    }\n",
              "\n",
              "    .dataframe thead th {\n",
              "        text-align: right;\n",
              "    }\n",
              "</style>\n",
              "<table border=\"1\" class=\"dataframe\">\n",
              "  <thead>\n",
              "    <tr style=\"text-align: right;\">\n",
              "      <th></th>\n",
              "      <th>Artist</th>\n",
              "      <th>Genres</th>\n",
              "      <th>Songs</th>\n",
              "      <th>Popularity</th>\n",
              "      <th>SName</th>\n",
              "      <th>Lyric</th>\n",
              "      <th>language</th>\n",
              "      <th>Lyric Count</th>\n",
              "    </tr>\n",
              "  </thead>\n",
              "  <tbody>\n",
              "    <tr>\n",
              "      <th>0</th>\n",
              "      <td>Ivete Sangalo</td>\n",
              "      <td>Pop; Axé; Romântico</td>\n",
              "      <td>313.0</td>\n",
              "      <td>4.4</td>\n",
              "      <td>Careless Whisper</td>\n",
              "      <td>I feel so unsure As I take your hand and lead ...</td>\n",
              "      <td>en</td>\n",
              "      <td>299</td>\n",
              "    </tr>\n",
              "    <tr>\n",
              "      <th>1</th>\n",
              "      <td>Ivete Sangalo</td>\n",
              "      <td>Pop; Axé; Romântico</td>\n",
              "      <td>313.0</td>\n",
              "      <td>4.4</td>\n",
              "      <td>Could You Be Loved / Citação Musical do Rap: S...</td>\n",
              "      <td>Don't let them fool, ya Or even try to school,...</td>\n",
              "      <td>en</td>\n",
              "      <td>161</td>\n",
              "    </tr>\n",
              "    <tr>\n",
              "      <th>2</th>\n",
              "      <td>Ivete Sangalo</td>\n",
              "      <td>Pop; Axé; Romântico</td>\n",
              "      <td>313.0</td>\n",
              "      <td>4.4</td>\n",
              "      <td>Cruisin' (Part. Saulo)</td>\n",
              "      <td>Baby, let's cruise, away from here Don't be co...</td>\n",
              "      <td>en</td>\n",
              "      <td>159</td>\n",
              "    </tr>\n",
              "    <tr>\n",
              "      <th>3</th>\n",
              "      <td>Ivete Sangalo</td>\n",
              "      <td>Pop; Axé; Romântico</td>\n",
              "      <td>313.0</td>\n",
              "      <td>4.4</td>\n",
              "      <td>Easy</td>\n",
              "      <td>Know it sounds funny But, I just can't stand t...</td>\n",
              "      <td>en</td>\n",
              "      <td>175</td>\n",
              "    </tr>\n",
              "    <tr>\n",
              "      <th>4</th>\n",
              "      <td>Ivete Sangalo</td>\n",
              "      <td>Pop; Axé; Romântico</td>\n",
              "      <td>313.0</td>\n",
              "      <td>4.4</td>\n",
              "      <td>For Your Babies (The Voice cover)</td>\n",
              "      <td>You've got that look again The one I hoped I h...</td>\n",
              "      <td>en</td>\n",
              "      <td>215</td>\n",
              "    </tr>\n",
              "    <tr>\n",
              "      <th>...</th>\n",
              "      <td>...</td>\n",
              "      <td>...</td>\n",
              "      <td>...</td>\n",
              "      <td>...</td>\n",
              "      <td>...</td>\n",
              "      <td>...</td>\n",
              "      <td>...</td>\n",
              "      <td>...</td>\n",
              "    </tr>\n",
              "    <tr>\n",
              "      <th>191371</th>\n",
              "      <td>Johnny Clegg</td>\n",
              "      <td>World Music; Gospel/Religioso</td>\n",
              "      <td>34.0</td>\n",
              "      <td>0.0</td>\n",
              "      <td>The Waiting</td>\n",
              "      <td>Chorus Here we stand waiting on the plain Dark...</td>\n",
              "      <td>en</td>\n",
              "      <td>198</td>\n",
              "    </tr>\n",
              "    <tr>\n",
              "      <th>191372</th>\n",
              "      <td>Johnny Clegg</td>\n",
              "      <td>World Music; Gospel/Religioso</td>\n",
              "      <td>34.0</td>\n",
              "      <td>0.0</td>\n",
              "      <td>Too Early For The Sky</td>\n",
              "      <td>I nearly disappeared into the mouth of a croco...</td>\n",
              "      <td>en</td>\n",
              "      <td>137</td>\n",
              "    </tr>\n",
              "    <tr>\n",
              "      <th>191373</th>\n",
              "      <td>Johnny Clegg</td>\n",
              "      <td>World Music; Gospel/Religioso</td>\n",
              "      <td>34.0</td>\n",
              "      <td>0.0</td>\n",
              "      <td>Warsaw 1943 (I Never Betrayed The Revolution)</td>\n",
              "      <td>Amambuka, amambuka azothengisa izwe lakithi, i...</td>\n",
              "      <td>en</td>\n",
              "      <td>221</td>\n",
              "    </tr>\n",
              "    <tr>\n",
              "      <th>191374</th>\n",
              "      <td>Johnny Clegg</td>\n",
              "      <td>World Music; Gospel/Religioso</td>\n",
              "      <td>34.0</td>\n",
              "      <td>0.0</td>\n",
              "      <td>When The System Has Fallen</td>\n",
              "      <td>Sweat in the heat for days on end waiting for ...</td>\n",
              "      <td>en</td>\n",
              "      <td>260</td>\n",
              "    </tr>\n",
              "    <tr>\n",
              "      <th>191375</th>\n",
              "      <td>Johnny Clegg</td>\n",
              "      <td>World Music; Gospel/Religioso</td>\n",
              "      <td>34.0</td>\n",
              "      <td>0.0</td>\n",
              "      <td>Woman Be My Country</td>\n",
              "      <td>Here we stand on the edge of the day Faces mel...</td>\n",
              "      <td>en</td>\n",
              "      <td>302</td>\n",
              "    </tr>\n",
              "  </tbody>\n",
              "</table>\n",
              "<p>191376 rows × 8 columns</p>\n",
              "</div>\n",
              "      <button class=\"colab-df-convert\" onclick=\"convertToInteractive('df-5e3980f8-9b31-46f4-b6d8-90b7e23942db')\"\n",
              "              title=\"Convert this dataframe to an interactive table.\"\n",
              "              style=\"display:none;\">\n",
              "        \n",
              "  <svg xmlns=\"http://www.w3.org/2000/svg\" height=\"24px\"viewBox=\"0 0 24 24\"\n",
              "       width=\"24px\">\n",
              "    <path d=\"M0 0h24v24H0V0z\" fill=\"none\"/>\n",
              "    <path d=\"M18.56 5.44l.94 2.06.94-2.06 2.06-.94-2.06-.94-.94-2.06-.94 2.06-2.06.94zm-11 1L8.5 8.5l.94-2.06 2.06-.94-2.06-.94L8.5 2.5l-.94 2.06-2.06.94zm10 10l.94 2.06.94-2.06 2.06-.94-2.06-.94-.94-2.06-.94 2.06-2.06.94z\"/><path d=\"M17.41 7.96l-1.37-1.37c-.4-.4-.92-.59-1.43-.59-.52 0-1.04.2-1.43.59L10.3 9.45l-7.72 7.72c-.78.78-.78 2.05 0 2.83L4 21.41c.39.39.9.59 1.41.59.51 0 1.02-.2 1.41-.59l7.78-7.78 2.81-2.81c.8-.78.8-2.07 0-2.86zM5.41 20L4 18.59l7.72-7.72 1.47 1.35L5.41 20z\"/>\n",
              "  </svg>\n",
              "      </button>\n",
              "      \n",
              "  <style>\n",
              "    .colab-df-container {\n",
              "      display:flex;\n",
              "      flex-wrap:wrap;\n",
              "      gap: 12px;\n",
              "    }\n",
              "\n",
              "    .colab-df-convert {\n",
              "      background-color: #E8F0FE;\n",
              "      border: none;\n",
              "      border-radius: 50%;\n",
              "      cursor: pointer;\n",
              "      display: none;\n",
              "      fill: #1967D2;\n",
              "      height: 32px;\n",
              "      padding: 0 0 0 0;\n",
              "      width: 32px;\n",
              "    }\n",
              "\n",
              "    .colab-df-convert:hover {\n",
              "      background-color: #E2EBFA;\n",
              "      box-shadow: 0px 1px 2px rgba(60, 64, 67, 0.3), 0px 1px 3px 1px rgba(60, 64, 67, 0.15);\n",
              "      fill: #174EA6;\n",
              "    }\n",
              "\n",
              "    [theme=dark] .colab-df-convert {\n",
              "      background-color: #3B4455;\n",
              "      fill: #D2E3FC;\n",
              "    }\n",
              "\n",
              "    [theme=dark] .colab-df-convert:hover {\n",
              "      background-color: #434B5C;\n",
              "      box-shadow: 0px 1px 3px 1px rgba(0, 0, 0, 0.15);\n",
              "      filter: drop-shadow(0px 1px 2px rgba(0, 0, 0, 0.3));\n",
              "      fill: #FFFFFF;\n",
              "    }\n",
              "  </style>\n",
              "\n",
              "      <script>\n",
              "        const buttonEl =\n",
              "          document.querySelector('#df-5e3980f8-9b31-46f4-b6d8-90b7e23942db button.colab-df-convert');\n",
              "        buttonEl.style.display =\n",
              "          google.colab.kernel.accessAllowed ? 'block' : 'none';\n",
              "\n",
              "        async function convertToInteractive(key) {\n",
              "          const element = document.querySelector('#df-5e3980f8-9b31-46f4-b6d8-90b7e23942db');\n",
              "          const dataTable =\n",
              "            await google.colab.kernel.invokeFunction('convertToInteractive',\n",
              "                                                     [key], {});\n",
              "          if (!dataTable) return;\n",
              "\n",
              "          const docLinkHtml = 'Like what you see? Visit the ' +\n",
              "            '<a target=\"_blank\" href=https://colab.research.google.com/notebooks/data_table.ipynb>data table notebook</a>'\n",
              "            + ' to learn more about interactive tables.';\n",
              "          element.innerHTML = '';\n",
              "          dataTable['output_type'] = 'display_data';\n",
              "          await google.colab.output.renderOutput(dataTable, element);\n",
              "          const docLink = document.createElement('div');\n",
              "          docLink.innerHTML = docLinkHtml;\n",
              "          element.appendChild(docLink);\n",
              "        }\n",
              "      </script>\n",
              "    </div>\n",
              "  </div>\n",
              "  "
            ],
            "text/plain": [
              "               Artist                         Genres  Songs  Popularity  \\\n",
              "0       Ivete Sangalo            Pop; Axé; Romântico  313.0         4.4   \n",
              "1       Ivete Sangalo            Pop; Axé; Romântico  313.0         4.4   \n",
              "2       Ivete Sangalo            Pop; Axé; Romântico  313.0         4.4   \n",
              "3       Ivete Sangalo            Pop; Axé; Romântico  313.0         4.4   \n",
              "4       Ivete Sangalo            Pop; Axé; Romântico  313.0         4.4   \n",
              "...               ...                            ...    ...         ...   \n",
              "191371   Johnny Clegg  World Music; Gospel/Religioso   34.0         0.0   \n",
              "191372   Johnny Clegg  World Music; Gospel/Religioso   34.0         0.0   \n",
              "191373   Johnny Clegg  World Music; Gospel/Religioso   34.0         0.0   \n",
              "191374   Johnny Clegg  World Music; Gospel/Religioso   34.0         0.0   \n",
              "191375   Johnny Clegg  World Music; Gospel/Religioso   34.0         0.0   \n",
              "\n",
              "                                                    SName  \\\n",
              "0                                        Careless Whisper   \n",
              "1       Could You Be Loved / Citação Musical do Rap: S...   \n",
              "2                                  Cruisin' (Part. Saulo)   \n",
              "3                                                    Easy   \n",
              "4                       For Your Babies (The Voice cover)   \n",
              "...                                                   ...   \n",
              "191371                                        The Waiting   \n",
              "191372                              Too Early For The Sky   \n",
              "191373      Warsaw 1943 (I Never Betrayed The Revolution)   \n",
              "191374                         When The System Has Fallen   \n",
              "191375                                Woman Be My Country   \n",
              "\n",
              "                                                    Lyric language  \\\n",
              "0       I feel so unsure As I take your hand and lead ...       en   \n",
              "1       Don't let them fool, ya Or even try to school,...       en   \n",
              "2       Baby, let's cruise, away from here Don't be co...       en   \n",
              "3       Know it sounds funny But, I just can't stand t...       en   \n",
              "4       You've got that look again The one I hoped I h...       en   \n",
              "...                                                   ...      ...   \n",
              "191371  Chorus Here we stand waiting on the plain Dark...       en   \n",
              "191372  I nearly disappeared into the mouth of a croco...       en   \n",
              "191373  Amambuka, amambuka azothengisa izwe lakithi, i...       en   \n",
              "191374  Sweat in the heat for days on end waiting for ...       en   \n",
              "191375  Here we stand on the edge of the day Faces mel...       en   \n",
              "\n",
              "        Lyric Count  \n",
              "0               299  \n",
              "1               161  \n",
              "2               159  \n",
              "3               175  \n",
              "4               215  \n",
              "...             ...  \n",
              "191371          198  \n",
              "191372          137  \n",
              "191373          221  \n",
              "191374          260  \n",
              "191375          302  \n",
              "\n",
              "[191376 rows x 8 columns]"
            ]
          },
          "metadata": {},
          "output_type": "display_data"
        }
      ],
      "source": [
        "#removing new line characters from the lyrics column\n",
        "df_joined[\"Lyric\"] = df_joined[\"Lyric\"].apply(lambda x: str(x).replace(\"\\n\", \" \"))\n",
        "df_joined[\"Lyric Count\"] = df_joined[\"Lyric\"].apply(lambda x: len(x.split()))\n",
        "display(df_joined)"
      ]
    },
    {
      "cell_type": "markdown",
      "metadata": {
        "id": "Np-V-aeU_bB6"
      },
      "source": [
        "We created another data frame, df_exploded, where we explode on the Genres column. We do this so that we can access individual genres easily. We want to avoid having to do substring analysis on the genres coulmn"
      ]
    },
    {
      "cell_type": "code",
      "execution_count": null,
      "metadata": {
        "id": "mJDCI1iwGUYA"
      },
      "outputs": [],
      "source": [
        "df_exploded = df_joined\n",
        "df_exploded['Genres'] = df_exploded['Genres'].apply(lambda x : x.split('; '))\n",
        "df_exploded.rename(columns={'Genres': 'Genre'}, inplace=True)\n",
        "df_exploded = df_exploded.explode('Genre')"
      ]
    },
    {
      "cell_type": "markdown",
      "metadata": {
        "id": "XLVxqxj57ajg"
      },
      "source": [
        "#EDA"
      ]
    },
    {
      "cell_type": "markdown",
      "metadata": {
        "id": "VdYFGqT50lMO"
      },
      "source": [
        "Our Exploratory Data Analysis consisted of us examining a correlation matrix, examining field counts, and plotting different graphs based on interests/hypotheses we had about our data."
      ]
    },
    {
      "cell_type": "markdown",
      "metadata": {
        "id": "la5aLLh1v86w"
      },
      "source": [
        "We wanted to start by checking if there were any immediate correlations in our data such as number of songs by artist, with popularity or length of the songs"
      ]
    },
    {
      "cell_type": "code",
      "execution_count": null,
      "metadata": {
        "colab": {
          "base_uri": "https://localhost:8080/",
          "height": 298
        },
        "id": "nDLvtq5aEC2B",
        "outputId": "4cc34afe-d916-4de7-bc58-32e25d94c91f"
      },
      "outputs": [
        {
          "data": {
            "text/plain": [
              "Text(0.5, 1.0, 'Correlation Matric of Joined Df')"
            ]
          },
          "execution_count": 17,
          "metadata": {},
          "output_type": "execute_result"
        },
        {
          "data": {
            "image/png": "[encoded data removed]",
            "text/plain": [
              "<Figure size 432x288 with 2 Axes>"
            ]
          },
          "metadata": {
            "needs_background": "light"
          },
          "output_type": "display_data"
        }
      ],
      "source": [
        "#We see that no column is highly correlated with another. The higest correlation \n",
        "#we see is with songs and popularity\n",
        "corr_matrix = df_joined.corr()\n",
        "sns.heatmap(corr_matrix, annot = True, cmap=\"BuPu\")\n",
        "plt.title('Correlation Matric of Joined Df')"
      ]
    },
    {
      "cell_type": "code",
      "execution_count": null,
      "metadata": {
        "colab": {
          "base_uri": "https://localhost:8080/"
        },
        "id": "MIqcaUE4IOZk",
        "outputId": "b9b0ff4a-32ed-49de-8a6b-f0b36c57c801"
      },
      "outputs": [
        {
          "data": {
            "text/plain": [
              "Rock             63717\n",
              "Pop              33571\n",
              "Pop/Rock         26360\n",
              "Heavy Metal      21758\n",
              "Hip Hop          20902\n",
              "                 ...  \n",
              "Pagode              29\n",
              "Forró               18\n",
              "Kizomba              7\n",
              "Electro Swing        6\n",
              "Regional             2\n",
              "Name: Genre, Length: 75, dtype: int64"
            ]
          },
          "execution_count": 18,
          "metadata": {},
          "output_type": "execute_result"
        }
      ],
      "source": [
        "#find number of genres and explore\n",
        "df_exploded['Genre'].value_counts()"
      ]
    },
    {
      "cell_type": "markdown",
      "metadata": {
        "id": "NoZynYdCwLkQ"
      },
      "source": [
        "We see here that some genres are very represented in the charts, whereas other were much more uncommon"
      ]
    },
    {
      "cell_type": "markdown",
      "metadata": {
        "id": "foh-LoOT1XQy"
      },
      "source": [
        "This graph shows us that Rock and Pop are heavily represented in our dataset as compared to generes like House and Instrumental."
      ]
    },
    {
      "cell_type": "code",
      "execution_count": null,
      "metadata": {
        "colab": {
          "base_uri": "https://localhost:8080/",
          "height": 493
        },
        "id": "Y0ifhedhFYDv",
        "outputId": "fdb88f93-2331-492a-f49b-446728b86585"
      },
      "outputs": [
        {
          "data": {
            "text/plain": [
              "Text(0, 0.5, 'Occurances')"
            ]
          },
          "execution_count": 19,
          "metadata": {},
          "output_type": "execute_result"
        },
        {
          "data": {
            "image/png": "[encoded data removed]",
            "text/plain": [
              "<Figure size 1080x432 with 1 Axes>"
            ]
          },
          "metadata": {
            "needs_background": "light"
          },
          "output_type": "display_data"
        }
      ],
      "source": [
        "#Graph of Instances per Genre\n",
        "df_exploded['Genre'].value_counts()[:40].plot(kind='bar', figsize=(15,6))\n",
        "plt.title('Number of Genres')\n",
        "plt.xlabel('Genre')\n",
        "plt.ylabel('Occurances')\n"
      ]
    },
    {
      "cell_type": "code",
      "execution_count": null,
      "metadata": {
        "colab": {
          "base_uri": "https://localhost:8080/"
        },
        "id": "zFUEDeQyH3zN",
        "outputId": "7bbb3997-1ef9-4f7c-d0a7-07e9aa55f973"
      },
      "outputs": [
        {
          "data": {
            "text/plain": [
              "Frank Sinatra         819\n",
              "Elvis Presley         747\n",
              "Dolly Parton          723\n",
              "Matheus Hardke        707\n",
              "Lil Wayne             689\n",
              "                     ... \n",
              "Jeanne Mascarenhas      1\n",
              "Davi Silva              1\n",
              "Scandal (j-pop)         1\n",
              "Roberta Campos          1\n",
              "Dulce María             1\n",
              "Name: Artist, Length: 2485, dtype: int64"
            ]
          },
          "execution_count": 20,
          "metadata": {},
          "output_type": "execute_result"
        }
      ],
      "source": [
        "#number of songs by artist\n",
        "df_joined['Artist'].value_counts()"
      ]
    },
    {
      "cell_type": "markdown",
      "metadata": {
        "id": "szGTE8bb2R5w"
      },
      "source": [
        "This graph shows that alot of the most frequently recurring artists in the dataset are older but also well known. In comparing the number of songs per artist with the popularity of artists, we do not see much oberlap. This may be due to the time the popularity was calculated. Newer artsist are among the most popular. If the data was taken a few years ago, there may be more overlap between the num of songs per artist and popularity"
      ]
    },
    {
      "cell_type": "code",
      "execution_count": null,
      "metadata": {
        "colab": {
          "base_uri": "https://localhost:8080/",
          "height": 503
        },
        "id": "dyIqHY5_LRX3",
        "outputId": "a02a0eb8-3569-4441-e42b-f6c75881868e"
      },
      "outputs": [
        {
          "data": {
            "text/plain": [
              "Text(0, 0.5, 'Occurances')"
            ]
          },
          "execution_count": 21,
          "metadata": {},
          "output_type": "execute_result"
        },
        {
          "data": {
            "image/png": "[encoded data removed]",
            "text/plain": [
              "<Figure size 1080x432 with 1 Axes>"
            ]
          },
          "metadata": {
            "needs_background": "light"
          },
          "output_type": "display_data"
        }
      ],
      "source": [
        "#Number of Songs Per Artist\n",
        "df_joined['Artist'].value_counts()[:40].plot(kind='bar', figsize=(15,6))\n",
        "plt.title('Number of Songs Per Artist')\n",
        "plt.xlabel('Artist')\n",
        "plt.ylabel('Occurances')"
      ]
    },
    {
      "cell_type": "code",
      "execution_count": null,
      "metadata": {
        "colab": {
          "base_uri": "https://localhost:8080/",
          "height": 548
        },
        "id": "5JO8_rZ2WBUg",
        "outputId": "0f7b30a8-4ffe-45cf-bdec-c6ed383b94ae"
      },
      "outputs": [
        {
          "data": {
            "text/plain": [
              "Text(0, 0.5, 'Popularity')"
            ]
          },
          "execution_count": 22,
          "metadata": {},
          "output_type": "execute_result"
        },
        {
          "data": {
            "image/png": "[encoded data removed]",
            "text/plain": [
              "<Figure size 1080x432 with 1 Axes>"
            ]
          },
          "metadata": {
            "needs_background": "light"
          },
          "output_type": "display_data"
        }
      ],
      "source": [
        "#Popularity of Artists\n",
        "df_popularity = df_artists.sort_values(by=['Popularity'], ascending=False)\n",
        "df_popularity = df_popularity[[\"Artist\", \"Popularity\"]]\n",
        "df_popularity[:40].plot(kind='bar', x = 'Artist', y = 'Popularity', figsize=(15,6))\n",
        "plt.title('Popularity Metric per Artist')\n",
        "plt.xlabel('Songs')\n",
        "plt.ylabel('Popularity')"
      ]
    },
    {
      "cell_type": "markdown",
      "metadata": {
        "id": "igHMb_yI-cJR"
      },
      "source": [
        "This graph shows us that genres like Rap and Hip Hop have the highest lyric counts amongst genres; we also interestingly found that Lofi music also has high lyric counts, possibly due to the way the sources in which this data was scraped defines lyrics. We then take a look at the lyric count per artist, noting that many with the highest lyric count produce rap and hip hop songs."
      ]
    },
    {
      "cell_type": "code",
      "execution_count": null,
      "metadata": {
        "colab": {
          "base_uri": "https://localhost:8080/",
          "height": 489
        },
        "id": "_tXudxe9_pP1",
        "outputId": "7625daca-3179-4bd3-be0c-6b03f57af3eb"
      },
      "outputs": [
        {
          "data": {
            "text/plain": [
              "Text(0, 0.5, 'Lyric Count')"
            ]
          },
          "execution_count": 23,
          "metadata": {},
          "output_type": "execute_result"
        },
        {
          "data": {
            "image/png": "[encoded data removed]",
            "text/plain": [
              "<Figure size 1440x432 with 1 Axes>"
            ]
          },
          "metadata": {
            "needs_background": "light"
          },
          "output_type": "display_data"
        }
      ],
      "source": [
        "#average song length and genre\n",
        "new_df = df_exploded[['Genre','Lyric Count']].groupby('Genre').mean()\n",
        "new_df = new_df.sort_values(by='Lyric Count', ascending = False).reset_index()\n",
        "new_df.plot(kind='bar',x='Genre', y='Lyric Count', figsize=(20,6))\n",
        "plt.title('Average Lyric Count per Genre')\n",
        "plt.xlabel('Genre')\n",
        "plt.ylabel('Lyric Count')"
      ]
    },
    {
      "cell_type": "code",
      "execution_count": null,
      "metadata": {
        "colab": {
          "base_uri": "https://localhost:8080/",
          "height": 561
        },
        "id": "P6FXrPqh7XQv",
        "outputId": "8fb61edb-1a7e-42c9-e7f7-01d73d950953"
      },
      "outputs": [
        {
          "data": {
            "text/plain": [
              "Text(0, 0.5, 'Lyric Count')"
            ]
          },
          "execution_count": 24,
          "metadata": {},
          "output_type": "execute_result"
        },
        {
          "data": {
            "image/png": "[encoded data removed]",
            "text/plain": [
              "<Figure size 1440x432 with 1 Axes>"
            ]
          },
          "metadata": {
            "needs_background": "light"
          },
          "output_type": "display_data"
        }
      ],
      "source": [
        "#average length of song\n",
        "avg_df = df_joined[[\"Artist\", \"Lyric Count\"]].groupby(\"Artist\").mean()\n",
        "avg_df = avg_df.sort_values(by='Lyric Count', ascending=False).reset_index()\n",
        "avg_df[:40].plot(kind='bar',x='Artist', y='Lyric Count', figsize=(20,6))\n",
        "plt.title('Average Lyric Count Per Artist')\n",
        "plt.xlabel('Artist')\n",
        "plt.ylabel('Lyric Count')"
      ]
    },
    {
      "cell_type": "markdown",
      "metadata": {
        "id": "fd95iycDEsF-"
      },
      "source": [
        "**Sentiment**\n",
        "\n",
        "We then perform sentiment analysis on the lyrics in the dataset. We first define a function to output sentiment of the lyrics. We then add a coulumn to the dataset with the sentiment score"
      ]
    },
    {
      "cell_type": "code",
      "execution_count": null,
      "metadata": {
        "colab": {
          "base_uri": "https://localhost:8080/"
        },
        "id": "4O02bZghWHeA",
        "outputId": "ba2c18f7-988e-4ff4-9418-7aaec3b607e1"
      },
      "outputs": [
        {
          "name": "stderr",
          "output_type": "stream",
          "text": [
            "[nltk_data] Downloading package vader_lexicon to /root/nltk_data...\n"
          ]
        }
      ],
      "source": [
        "#sentiment function\n",
        "nltk.download('vader_lexicon')\n",
        "sia = SentimentIntensityAnalyzer()\n",
        "def retrieve_sentiment(content):\n",
        "  d = sia.polarity_scores(content)\n",
        "  return d['compound']"
      ]
    },
    {
      "cell_type": "markdown",
      "metadata": {
        "id": "tha--OofFOBS"
      },
      "source": [
        "One issue that we ran into was runtime. We originally planed to preform sentiment analysis on the entire dataframe. Due to the size of the dataframe, the run time took over  1 hour before we decided to terminte the cell. We instead decided to do our modeling and analysis on specifc genres to reduce the run time.\n",
        "\n",
        "We begin out analysis using genres that we believe are opposing: Jazz and Grunge. We assume that Jazz artists will have a higher sentiment that Grunge artists due to the darker lyrics that are assiocated with Grunge music. "
      ]
    },
    {
      "cell_type": "code",
      "execution_count": null,
      "metadata": {
        "colab": {
          "base_uri": "https://localhost:8080/"
        },
        "id": "NPclRpXvA4z2",
        "outputId": "3793d158-e339-4769-a8ce-bed68a2bd2a1"
      },
      "outputs": [
        {
          "name": "stderr",
          "output_type": "stream",
          "text": [
            "[nltk_data] Downloading package punkt to /root/nltk_data...\n",
            "[nltk_data]   Unzipping tokenizers/punkt.zip.\n"
          ]
        }
      ],
      "source": [
        "#make a sentiment analysis column\n",
        "nltk.download('punkt')\n",
        "df_sentiment = df_exploded[(df_exploded[\"Genre\"] == \"Jazz\") | (df_exploded[\"Genre\"] == \"Grunge\")]"
      ]
    },
    {
      "cell_type": "code",
      "execution_count": null,
      "metadata": {
        "colab": {
          "base_uri": "https://localhost:8080/",
          "height": 693
        },
        "id": "vy_dQIQaX1r8",
        "outputId": "4ec97395-9475-4a11-db45-9002f43cb71b"
      },
      "outputs": [
        {
          "name": "stderr",
          "output_type": "stream",
          "text": [
            "<ipython-input-27-d312bb9b2bf9>:1: SettingWithCopyWarning: \n",
            "A value is trying to be set on a copy of a slice from a DataFrame.\n",
            "Try using .loc[row_indexer,col_indexer] = value instead\n",
            "\n",
            "See the caveats in the documentation: https://pandas.pydata.org/pandas-docs/stable/user_guide/indexing.html#returning-a-view-versus-a-copy\n",
            "  df_sentiment['Sentiment'] = df_sentiment['Lyric'].apply(lambda x : retrieve_sentiment(x))\n"
          ]
        },
        {
          "data": {
            "text/html": [
              "\n",
              "  <div id=\"df-401a81a2-7287-4004-bc2d-5c4a81a083fb\">\n",
              "    <div class=\"colab-df-container\">\n",
              "      <div>\n",
              "<style scoped>\n",
              "    .dataframe tbody tr th:only-of-type {\n",
              "        vertical-align: middle;\n",
              "    }\n",
              "\n",
              "    .dataframe tbody tr th {\n",
              "        vertical-align: top;\n",
              "    }\n",
              "\n",
              "    .dataframe thead th {\n",
              "        text-align: right;\n",
              "    }\n",
              "</style>\n",
              "<table border=\"1\" class=\"dataframe\">\n",
              "  <thead>\n",
              "    <tr style=\"text-align: right;\">\n",
              "      <th></th>\n",
              "      <th>Artist</th>\n",
              "      <th>Genre</th>\n",
              "      <th>Songs</th>\n",
              "      <th>Popularity</th>\n",
              "      <th>SName</th>\n",
              "      <th>Lyric</th>\n",
              "      <th>language</th>\n",
              "      <th>Lyric Count</th>\n",
              "      <th>Sentiment</th>\n",
              "    </tr>\n",
              "  </thead>\n",
              "  <tbody>\n",
              "    <tr>\n",
              "      <th>11647</th>\n",
              "      <td>Amy Winehouse</td>\n",
              "      <td>Jazz</td>\n",
              "      <td>70.0</td>\n",
              "      <td>13.5</td>\n",
              "      <td>Back To Black</td>\n",
              "      <td>He left no time to regret Kept his dick wet Wi...</td>\n",
              "      <td>en</td>\n",
              "      <td>196</td>\n",
              "      <td>-0.8225</td>\n",
              "    </tr>\n",
              "    <tr>\n",
              "      <th>11648</th>\n",
              "      <td>Amy Winehouse</td>\n",
              "      <td>Jazz</td>\n",
              "      <td>70.0</td>\n",
              "      <td>13.5</td>\n",
              "      <td>Valerie</td>\n",
              "      <td>Well sometimes I go out by myself And I look a...</td>\n",
              "      <td>en</td>\n",
              "      <td>275</td>\n",
              "      <td>0.3313</td>\n",
              "    </tr>\n",
              "    <tr>\n",
              "      <th>11649</th>\n",
              "      <td>Amy Winehouse</td>\n",
              "      <td>Jazz</td>\n",
              "      <td>70.0</td>\n",
              "      <td>13.5</td>\n",
              "      <td>Rehab</td>\n",
              "      <td>They tried to make me go to rehab,but I said, ...</td>\n",
              "      <td>en</td>\n",
              "      <td>307</td>\n",
              "      <td>-0.5864</td>\n",
              "    </tr>\n",
              "    <tr>\n",
              "      <th>11650</th>\n",
              "      <td>Amy Winehouse</td>\n",
              "      <td>Jazz</td>\n",
              "      <td>70.0</td>\n",
              "      <td>13.5</td>\n",
              "      <td>You Know I'm No Good</td>\n",
              "      <td>Meet you downstairs in the bar and heard Your ...</td>\n",
              "      <td>en</td>\n",
              "      <td>253</td>\n",
              "      <td>-0.9331</td>\n",
              "    </tr>\n",
              "    <tr>\n",
              "      <th>11651</th>\n",
              "      <td>Amy Winehouse</td>\n",
              "      <td>Jazz</td>\n",
              "      <td>70.0</td>\n",
              "      <td>13.5</td>\n",
              "      <td>Tears Dry On Their Own</td>\n",
              "      <td>All I'll can ever be to you Is a darkness that...</td>\n",
              "      <td>en</td>\n",
              "      <td>366</td>\n",
              "      <td>-0.0654</td>\n",
              "    </tr>\n",
              "    <tr>\n",
              "      <th>...</th>\n",
              "      <td>...</td>\n",
              "      <td>...</td>\n",
              "      <td>...</td>\n",
              "      <td>...</td>\n",
              "      <td>...</td>\n",
              "      <td>...</td>\n",
              "      <td>...</td>\n",
              "      <td>...</td>\n",
              "      <td>...</td>\n",
              "    </tr>\n",
              "    <tr>\n",
              "      <th>189643</th>\n",
              "      <td>A Princesa e O Sapo</td>\n",
              "      <td>Jazz</td>\n",
              "      <td>21.0</td>\n",
              "      <td>1.0</td>\n",
              "      <td>Down In New Orleans</td>\n",
              "      <td>(Introduction) The Evening Star is shining bri...</td>\n",
              "      <td>en</td>\n",
              "      <td>188</td>\n",
              "      <td>0.9517</td>\n",
              "    </tr>\n",
              "    <tr>\n",
              "      <th>189644</th>\n",
              "      <td>A Princesa e O Sapo</td>\n",
              "      <td>Jazz</td>\n",
              "      <td>21.0</td>\n",
              "      <td>1.0</td>\n",
              "      <td>Gonna Take You There</td>\n",
              "      <td>We gonna take you there We gonna take you ther...</td>\n",
              "      <td>en</td>\n",
              "      <td>121</td>\n",
              "      <td>0.0000</td>\n",
              "    </tr>\n",
              "    <tr>\n",
              "      <th>189645</th>\n",
              "      <td>A Princesa e O Sapo</td>\n",
              "      <td>Jazz</td>\n",
              "      <td>21.0</td>\n",
              "      <td>1.0</td>\n",
              "      <td>Down in New Orleans (Finale)</td>\n",
              "      <td>There's a city  Way down on the river  Where t...</td>\n",
              "      <td>en</td>\n",
              "      <td>75</td>\n",
              "      <td>0.9097</td>\n",
              "    </tr>\n",
              "    <tr>\n",
              "      <th>189646</th>\n",
              "      <td>A Princesa e O Sapo</td>\n",
              "      <td>Jazz</td>\n",
              "      <td>21.0</td>\n",
              "      <td>1.0</td>\n",
              "      <td>Friends On The Other Side</td>\n",
              "      <td>Friends On The Other Side  Dr. Facilier; Don't...</td>\n",
              "      <td>en</td>\n",
              "      <td>438</td>\n",
              "      <td>0.9958</td>\n",
              "    </tr>\n",
              "    <tr>\n",
              "      <th>189647</th>\n",
              "      <td>A Princesa e O Sapo</td>\n",
              "      <td>Jazz</td>\n",
              "      <td>21.0</td>\n",
              "      <td>1.0</td>\n",
              "      <td>Ray Laid Low</td>\n",
              "      <td>Almost Almost there People would have come fro...</td>\n",
              "      <td>en</td>\n",
              "      <td>13</td>\n",
              "      <td>0.0000</td>\n",
              "    </tr>\n",
              "  </tbody>\n",
              "</table>\n",
              "<p>7095 rows × 9 columns</p>\n",
              "</div>\n",
              "      <button class=\"colab-df-convert\" onclick=\"convertToInteractive('df-401a81a2-7287-4004-bc2d-5c4a81a083fb')\"\n",
              "              title=\"Convert this dataframe to an interactive table.\"\n",
              "              style=\"display:none;\">\n",
              "        \n",
              "  <svg xmlns=\"http://www.w3.org/2000/svg\" height=\"24px\"viewBox=\"0 0 24 24\"\n",
              "       width=\"24px\">\n",
              "    <path d=\"M0 0h24v24H0V0z\" fill=\"none\"/>\n",
              "    <path d=\"M18.56 5.44l.94 2.06.94-2.06 2.06-.94-2.06-.94-.94-2.06-.94 2.06-2.06.94zm-11 1L8.5 8.5l.94-2.06 2.06-.94-2.06-.94L8.5 2.5l-.94 2.06-2.06.94zm10 10l.94 2.06.94-2.06 2.06-.94-2.06-.94-.94-2.06-.94 2.06-2.06.94z\"/><path d=\"M17.41 7.96l-1.37-1.37c-.4-.4-.92-.59-1.43-.59-.52 0-1.04.2-1.43.59L10.3 9.45l-7.72 7.72c-.78.78-.78 2.05 0 2.83L4 21.41c.39.39.9.59 1.41.59.51 0 1.02-.2 1.41-.59l7.78-7.78 2.81-2.81c.8-.78.8-2.07 0-2.86zM5.41 20L4 18.59l7.72-7.72 1.47 1.35L5.41 20z\"/>\n",
              "  </svg>\n",
              "      </button>\n",
              "      \n",
              "  <style>\n",
              "    .colab-df-container {\n",
              "      display:flex;\n",
              "      flex-wrap:wrap;\n",
              "      gap: 12px;\n",
              "    }\n",
              "\n",
              "    .colab-df-convert {\n",
              "      background-color: #E8F0FE;\n",
              "      border: none;\n",
              "      border-radius: 50%;\n",
              "      cursor: pointer;\n",
              "      display: none;\n",
              "      fill: #1967D2;\n",
              "      height: 32px;\n",
              "      padding: 0 0 0 0;\n",
              "      width: 32px;\n",
              "    }\n",
              "\n",
              "    .colab-df-convert:hover {\n",
              "      background-color: #E2EBFA;\n",
              "      box-shadow: 0px 1px 2px rgba(60, 64, 67, 0.3), 0px 1px 3px 1px rgba(60, 64, 67, 0.15);\n",
              "      fill: #174EA6;\n",
              "    }\n",
              "\n",
              "    [theme=dark] .colab-df-convert {\n",
              "      background-color: #3B4455;\n",
              "      fill: #D2E3FC;\n",
              "    }\n",
              "\n",
              "    [theme=dark] .colab-df-convert:hover {\n",
              "      background-color: #434B5C;\n",
              "      box-shadow: 0px 1px 3px 1px rgba(0, 0, 0, 0.15);\n",
              "      filter: drop-shadow(0px 1px 2px rgba(0, 0, 0, 0.3));\n",
              "      fill: #FFFFFF;\n",
              "    }\n",
              "  </style>\n",
              "\n",
              "      <script>\n",
              "        const buttonEl =\n",
              "          document.querySelector('#df-401a81a2-7287-4004-bc2d-5c4a81a083fb button.colab-df-convert');\n",
              "        buttonEl.style.display =\n",
              "          google.colab.kernel.accessAllowed ? 'block' : 'none';\n",
              "\n",
              "        async function convertToInteractive(key) {\n",
              "          const element = document.querySelector('#df-401a81a2-7287-4004-bc2d-5c4a81a083fb');\n",
              "          const dataTable =\n",
              "            await google.colab.kernel.invokeFunction('convertToInteractive',\n",
              "                                                     [key], {});\n",
              "          if (!dataTable) return;\n",
              "\n",
              "          const docLinkHtml = 'Like what you see? Visit the ' +\n",
              "            '<a target=\"_blank\" href=https://colab.research.google.com/notebooks/data_table.ipynb>data table notebook</a>'\n",
              "            + ' to learn more about interactive tables.';\n",
              "          element.innerHTML = '';\n",
              "          dataTable['output_type'] = 'display_data';\n",
              "          await google.colab.output.renderOutput(dataTable, element);\n",
              "          const docLink = document.createElement('div');\n",
              "          docLink.innerHTML = docLinkHtml;\n",
              "          element.appendChild(docLink);\n",
              "        }\n",
              "      </script>\n",
              "    </div>\n",
              "  </div>\n",
              "  "
            ],
            "text/plain": [
              "                     Artist Genre  Songs  Popularity  \\\n",
              "11647         Amy Winehouse  Jazz   70.0        13.5   \n",
              "11648         Amy Winehouse  Jazz   70.0        13.5   \n",
              "11649         Amy Winehouse  Jazz   70.0        13.5   \n",
              "11650         Amy Winehouse  Jazz   70.0        13.5   \n",
              "11651         Amy Winehouse  Jazz   70.0        13.5   \n",
              "...                     ...   ...    ...         ...   \n",
              "189643  A Princesa e O Sapo  Jazz   21.0         1.0   \n",
              "189644  A Princesa e O Sapo  Jazz   21.0         1.0   \n",
              "189645  A Princesa e O Sapo  Jazz   21.0         1.0   \n",
              "189646  A Princesa e O Sapo  Jazz   21.0         1.0   \n",
              "189647  A Princesa e O Sapo  Jazz   21.0         1.0   \n",
              "\n",
              "                               SName  \\\n",
              "11647                  Back To Black   \n",
              "11648                        Valerie   \n",
              "11649                          Rehab   \n",
              "11650           You Know I'm No Good   \n",
              "11651         Tears Dry On Their Own   \n",
              "...                              ...   \n",
              "189643           Down In New Orleans   \n",
              "189644          Gonna Take You There   \n",
              "189645  Down in New Orleans (Finale)   \n",
              "189646     Friends On The Other Side   \n",
              "189647                  Ray Laid Low   \n",
              "\n",
              "                                                    Lyric language  \\\n",
              "11647   He left no time to regret Kept his dick wet Wi...       en   \n",
              "11648   Well sometimes I go out by myself And I look a...       en   \n",
              "11649   They tried to make me go to rehab,but I said, ...       en   \n",
              "11650   Meet you downstairs in the bar and heard Your ...       en   \n",
              "11651   All I'll can ever be to you Is a darkness that...       en   \n",
              "...                                                   ...      ...   \n",
              "189643  (Introduction) The Evening Star is shining bri...       en   \n",
              "189644  We gonna take you there We gonna take you ther...       en   \n",
              "189645  There's a city  Way down on the river  Where t...       en   \n",
              "189646  Friends On The Other Side  Dr. Facilier; Don't...       en   \n",
              "189647  Almost Almost there People would have come fro...       en   \n",
              "\n",
              "        Lyric Count  Sentiment  \n",
              "11647           196    -0.8225  \n",
              "11648           275     0.3313  \n",
              "11649           307    -0.5864  \n",
              "11650           253    -0.9331  \n",
              "11651           366    -0.0654  \n",
              "...             ...        ...  \n",
              "189643          188     0.9517  \n",
              "189644          121     0.0000  \n",
              "189645           75     0.9097  \n",
              "189646          438     0.9958  \n",
              "189647           13     0.0000  \n",
              "\n",
              "[7095 rows x 9 columns]"
            ]
          },
          "metadata": {},
          "output_type": "display_data"
        }
      ],
      "source": [
        "df_sentiment['Sentiment'] = df_sentiment['Lyric'].apply(lambda x : retrieve_sentiment(x))\n",
        "display(df_sentiment)"
      ]
    },
    {
      "cell_type": "markdown",
      "metadata": {
        "id": "5eHdliDeEV18"
      },
      "source": [
        "Our analysis shows that Jazz artists on average have a higher sentiment than Grunge artists. This makes sense given the darker lyrics assiocated with Grunge music. "
      ]
    },
    {
      "cell_type": "code",
      "execution_count": null,
      "metadata": {
        "colab": {
          "base_uri": "https://localhost:8080/",
          "height": 610
        },
        "id": "5wIxcgEC_dfq",
        "outputId": "b8a40636-07e9-4c90-d983-1fb2e7a298c8"
      },
      "outputs": [
        {
          "name": "stderr",
          "output_type": "stream",
          "text": [
            "<ipython-input-28-77fd10cbbdcb>:6: UserWarning: In Matplotlib 3.3 individual lines on a stem plot will be added as a LineCollection instead of individual lines. This significantly improves the performance of a stem plot. To remove this warning and switch to the new behaviour, set the \"use_line_collection\" keyword argument to True.\n",
            "  plt.stem(df.Artist, df.Sentiment)\n"
          ]
        },
        {
          "data": {
            "text/plain": [
              "Text(0, 0.5, 'Sentiment')"
            ]
          },
          "execution_count": 28,
          "metadata": {},
          "output_type": "execute_result"
        },
        {
          "data": {
            "image/png": "[encoded data removed]",
            "text/plain": [
              "<Figure size 1440x432 with 1 Axes>"
            ]
          },
          "metadata": {
            "needs_background": "light"
          },
          "output_type": "display_data"
        }
      ],
      "source": [
        "#average sentiment and popularity\n",
        "df = df_sentiment.groupby(\"Artist\")['Sentiment'].mean().reset_index()\n",
        "f = plt.figure()\n",
        "f.set_figwidth(20)\n",
        "f.set_figheight(6)\n",
        "plt.stem(df.Artist, df.Sentiment)\n",
        "plt.xticks(rotation = 90)\n",
        "\n",
        "plt.title('Sentiment for Artists in Grunge and Jazz Genere')\n",
        "plt.xlabel('Artist')\n",
        "plt.ylabel('Sentiment')"
      ]
    },
    {
      "cell_type": "code",
      "execution_count": null,
      "metadata": {
        "colab": {
          "base_uri": "https://localhost:8080/",
          "height": 112
        },
        "id": "IAkHhIxUDZrU",
        "outputId": "f480a5c6-0371-4100-b813-775d5e50d858"
      },
      "outputs": [
        {
          "data": {
            "text/html": [
              "\n",
              "  <div id=\"df-1dd81b6f-bf83-4cb3-a221-f705bb701130\">\n",
              "    <div class=\"colab-df-container\">\n",
              "      <div>\n",
              "<style scoped>\n",
              "    .dataframe tbody tr th:only-of-type {\n",
              "        vertical-align: middle;\n",
              "    }\n",
              "\n",
              "    .dataframe tbody tr th {\n",
              "        vertical-align: top;\n",
              "    }\n",
              "\n",
              "    .dataframe thead th {\n",
              "        text-align: right;\n",
              "    }\n",
              "</style>\n",
              "<table border=\"1\" class=\"dataframe\">\n",
              "  <thead>\n",
              "    <tr style=\"text-align: right;\">\n",
              "      <th></th>\n",
              "      <th>Genre</th>\n",
              "      <th>Songs</th>\n",
              "      <th>Popularity</th>\n",
              "      <th>Lyric Count</th>\n",
              "      <th>Sentiment</th>\n",
              "    </tr>\n",
              "  </thead>\n",
              "  <tbody>\n",
              "    <tr>\n",
              "      <th>0</th>\n",
              "      <td>Grunge</td>\n",
              "      <td>137.692951</td>\n",
              "      <td>4.804106</td>\n",
              "      <td>175.373547</td>\n",
              "      <td>0.037973</td>\n",
              "    </tr>\n",
              "    <tr>\n",
              "      <th>1</th>\n",
              "      <td>Jazz</td>\n",
              "      <td>302.846650</td>\n",
              "      <td>4.748423</td>\n",
              "      <td>170.901911</td>\n",
              "      <td>0.549392</td>\n",
              "    </tr>\n",
              "  </tbody>\n",
              "</table>\n",
              "</div>\n",
              "      <button class=\"colab-df-convert\" onclick=\"convertToInteractive('df-1dd81b6f-bf83-4cb3-a221-f705bb701130')\"\n",
              "              title=\"Convert this dataframe to an interactive table.\"\n",
              "              style=\"display:none;\">\n",
              "        \n",
              "  <svg xmlns=\"http://www.w3.org/2000/svg\" height=\"24px\"viewBox=\"0 0 24 24\"\n",
              "       width=\"24px\">\n",
              "    <path d=\"M0 0h24v24H0V0z\" fill=\"none\"/>\n",
              "    <path d=\"M18.56 5.44l.94 2.06.94-2.06 2.06-.94-2.06-.94-.94-2.06-.94 2.06-2.06.94zm-11 1L8.5 8.5l.94-2.06 2.06-.94-2.06-.94L8.5 2.5l-.94 2.06-2.06.94zm10 10l.94 2.06.94-2.06 2.06-.94-2.06-.94-.94-2.06-.94 2.06-2.06.94z\"/><path d=\"M17.41 7.96l-1.37-1.37c-.4-.4-.92-.59-1.43-.59-.52 0-1.04.2-1.43.59L10.3 9.45l-7.72 7.72c-.78.78-.78 2.05 0 2.83L4 21.41c.39.39.9.59 1.41.59.51 0 1.02-.2 1.41-.59l7.78-7.78 2.81-2.81c.8-.78.8-2.07 0-2.86zM5.41 20L4 18.59l7.72-7.72 1.47 1.35L5.41 20z\"/>\n",
              "  </svg>\n",
              "      </button>\n",
              "      \n",
              "  <style>\n",
              "    .colab-df-container {\n",
              "      display:flex;\n",
              "      flex-wrap:wrap;\n",
              "      gap: 12px;\n",
              "    }\n",
              "\n",
              "    .colab-df-convert {\n",
              "      background-color: #E8F0FE;\n",
              "      border: none;\n",
              "      border-radius: 50%;\n",
              "      cursor: pointer;\n",
              "      display: none;\n",
              "      fill: #1967D2;\n",
              "      height: 32px;\n",
              "      padding: 0 0 0 0;\n",
              "      width: 32px;\n",
              "    }\n",
              "\n",
              "    .colab-df-convert:hover {\n",
              "      background-color: #E2EBFA;\n",
              "      box-shadow: 0px 1px 2px rgba(60, 64, 67, 0.3), 0px 1px 3px 1px rgba(60, 64, 67, 0.15);\n",
              "      fill: #174EA6;\n",
              "    }\n",
              "\n",
              "    [theme=dark] .colab-df-convert {\n",
              "      background-color: #3B4455;\n",
              "      fill: #D2E3FC;\n",
              "    }\n",
              "\n",
              "    [theme=dark] .colab-df-convert:hover {\n",
              "      background-color: #434B5C;\n",
              "      box-shadow: 0px 1px 3px 1px rgba(0, 0, 0, 0.15);\n",
              "      filter: drop-shadow(0px 1px 2px rgba(0, 0, 0, 0.3));\n",
              "      fill: #FFFFFF;\n",
              "    }\n",
              "  </style>\n",
              "\n",
              "      <script>\n",
              "        const buttonEl =\n",
              "          document.querySelector('#df-1dd81b6f-bf83-4cb3-a221-f705bb701130 button.colab-df-convert');\n",
              "        buttonEl.style.display =\n",
              "          google.colab.kernel.accessAllowed ? 'block' : 'none';\n",
              "\n",
              "        async function convertToInteractive(key) {\n",
              "          const element = document.querySelector('#df-1dd81b6f-bf83-4cb3-a221-f705bb701130');\n",
              "          const dataTable =\n",
              "            await google.colab.kernel.invokeFunction('convertToInteractive',\n",
              "                                                     [key], {});\n",
              "          if (!dataTable) return;\n",
              "\n",
              "          const docLinkHtml = 'Like what you see? Visit the ' +\n",
              "            '<a target=\"_blank\" href=https://colab.research.google.com/notebooks/data_table.ipynb>data table notebook</a>'\n",
              "            + ' to learn more about interactive tables.';\n",
              "          element.innerHTML = '';\n",
              "          dataTable['output_type'] = 'display_data';\n",
              "          await google.colab.output.renderOutput(dataTable, element);\n",
              "          const docLink = document.createElement('div');\n",
              "          docLink.innerHTML = docLinkHtml;\n",
              "          element.appendChild(docLink);\n",
              "        }\n",
              "      </script>\n",
              "    </div>\n",
              "  </div>\n",
              "  "
            ],
            "text/plain": [
              "    Genre       Songs  Popularity  Lyric Count  Sentiment\n",
              "0  Grunge  137.692951    4.804106   175.373547   0.037973\n",
              "1    Jazz  302.846650    4.748423   170.901911   0.549392"
            ]
          },
          "execution_count": 29,
          "metadata": {},
          "output_type": "execute_result"
        }
      ],
      "source": [
        "df_2 = df_sentiment.groupby('Genre').mean().reset_index()\n",
        "df_2"
      ]
    },
    {
      "cell_type": "markdown",
      "metadata": {
        "id": "OgLcFkpWEZYp"
      },
      "source": [
        "We then decide to pick genres that we think will be more similar in terms of sentiment: Black Music and Hip Hop.\n"
      ]
    },
    {
      "cell_type": "code",
      "execution_count": null,
      "metadata": {
        "colab": {
          "base_uri": "https://localhost:8080/",
          "height": 298
        },
        "id": "TisSBQUjCIxe",
        "outputId": "6527ad78-fa6e-42ce-ffa1-5432f046a276"
      },
      "outputs": [
        {
          "data": {
            "text/plain": [
              "Text(0.5, 1.0, 'Correlation Matrix: Jazz and Grunge Only')"
            ]
          },
          "execution_count": 30,
          "metadata": {},
          "output_type": "execute_result"
        },
        {
          "data": {
            "image/png": "[encoded data removed]",
            "text/plain": [
              "<Figure size 432x288 with 2 Axes>"
            ]
          },
          "metadata": {
            "needs_background": "light"
          },
          "output_type": "display_data"
        }
      ],
      "source": [
        "corr_matrix_sent = df_sentiment.corr()\n",
        "sns.heatmap(corr_matrix_sent, annot = True, cmap=\"BuPu\")\n",
        "plt.title('Correlation Matrix: Jazz and Grunge Only')"
      ]
    },
    {
      "cell_type": "code",
      "execution_count": null,
      "metadata": {
        "colab": {
          "base_uri": "https://localhost:8080/"
        },
        "id": "E7ANim36NPKE",
        "outputId": "9c4ecd7f-d920-4bcc-ce33-8c97409de0f6"
      },
      "outputs": [
        {
          "name": "stderr",
          "output_type": "stream",
          "text": [
            "<ipython-input-31-283f3e4514ea>:3: SettingWithCopyWarning: \n",
            "A value is trying to be set on a copy of a slice from a DataFrame.\n",
            "Try using .loc[row_indexer,col_indexer] = value instead\n",
            "\n",
            "See the caveats in the documentation: https://pandas.pydata.org/pandas-docs/stable/user_guide/indexing.html#returning-a-view-versus-a-copy\n",
            "  df_sentiment2['Sentiment'] = df_sentiment2['Lyric'].apply(lambda x : retrieve_sentiment(x))\n"
          ]
        },
        {
          "data": {
            "text/plain": [
              "Hip Hop        20902\n",
              "Black Music    13024\n",
              "Name: Genre, dtype: int64"
            ]
          },
          "execution_count": 31,
          "metadata": {},
          "output_type": "execute_result"
        }
      ],
      "source": [
        "df_sentiment2 = df_exploded[(df_exploded[\"Genre\"] == \"Hip Hop\") | (df_exploded[\"Genre\"] == \"Black Music\")]\n",
        "\n",
        "df_sentiment2['Sentiment'] = df_sentiment2['Lyric'].apply(lambda x : retrieve_sentiment(x))\n",
        "df_sentiment2['Genre'].value_counts()"
      ]
    },
    {
      "cell_type": "code",
      "execution_count": null,
      "metadata": {
        "colab": {
          "base_uri": "https://localhost:8080/",
          "height": 620
        },
        "id": "rExpaTDSNW3O",
        "outputId": "294a6271-f53a-49ac-fa21-0fb68a79dfda"
      },
      "outputs": [
        {
          "name": "stderr",
          "output_type": "stream",
          "text": [
            "<ipython-input-32-6f325237f877>:9: UserWarning: In Matplotlib 3.3 individual lines on a stem plot will be added as a LineCollection instead of individual lines. This significantly improves the performance of a stem plot. To remove this warning and switch to the new behaviour, set the \"use_line_collection\" keyword argument to True.\n",
            "  plt.stem(df.Artist, df.Sentiment)\n"
          ]
        },
        {
          "data": {
            "text/plain": [
              "Text(0, 0.5, 'Sentiment')"
            ]
          },
          "execution_count": 32,
          "metadata": {},
          "output_type": "execute_result"
        },
        {
          "data": {
            "image/png": "[encoded data removed]",
            "text/plain": [
              "<Figure size 1440x432 with 1 Axes>"
            ]
          },
          "metadata": {
            "needs_background": "light"
          },
          "output_type": "display_data"
        }
      ],
      "source": [
        "#average sentiment and popularity - we make two grapgs because there are way more instances than before\n",
        "df = df_sentiment2.groupby(\"Artist\")['Sentiment'].mean().reset_index()\n",
        "df = df.sort_values(by=['Sentiment'], ascending=False)\n",
        "df2 = df.tail(40)\n",
        "df = df.head(40)\n",
        "f = plt.figure()\n",
        "f.set_figwidth(20)\n",
        "f.set_figheight(6)\n",
        "plt.stem(df.Artist, df.Sentiment)\n",
        "plt.xticks(rotation = 90)\n",
        "\n",
        "plt.title('Sentiment for Top Artists in Black Music and Hip Hop Genres')\n",
        "plt.xlabel('Artist')\n",
        "plt.ylabel('Sentiment')"
      ]
    },
    {
      "cell_type": "markdown",
      "metadata": {
        "id": "6x1qGqS9zCRz"
      },
      "source": [
        "We can see from the graph above that there is much more similarity here in terms of sentimentality for both genres, with artists from both showing up in the top 20"
      ]
    },
    {
      "cell_type": "code",
      "execution_count": null,
      "metadata": {
        "colab": {
          "base_uri": "https://localhost:8080/",
          "height": 574
        },
        "id": "SV8Md811QMQu",
        "outputId": "3edf9879-949d-4a29-a189-a1a1918e483c"
      },
      "outputs": [
        {
          "name": "stderr",
          "output_type": "stream",
          "text": [
            "<ipython-input-33-83274821b2ea>:4: UserWarning: In Matplotlib 3.3 individual lines on a stem plot will be added as a LineCollection instead of individual lines. This significantly improves the performance of a stem plot. To remove this warning and switch to the new behaviour, set the \"use_line_collection\" keyword argument to True.\n",
            "  plt.stem(df2.Artist, df2.Sentiment)\n"
          ]
        },
        {
          "data": {
            "text/plain": [
              "Text(0, 0.5, 'Sentiment')"
            ]
          },
          "execution_count": 33,
          "metadata": {},
          "output_type": "execute_result"
        },
        {
          "data": {
            "image/png": "[encoded data removed]",
            "text/plain": [
              "<Figure size 1440x432 with 1 Axes>"
            ]
          },
          "metadata": {
            "needs_background": "light"
          },
          "output_type": "display_data"
        }
      ],
      "source": [
        "f = plt.figure()\n",
        "f.set_figwidth(20)\n",
        "f.set_figheight(6)\n",
        "plt.stem(df2.Artist, df2.Sentiment)\n",
        "plt.xticks(rotation = 90)\n",
        "\n",
        "plt.title('Sentiment for Bottom Artists in Black Music and Hip Hop genres')\n",
        "plt.xlabel('Artist')\n",
        "plt.ylabel('Sentiment')"
      ]
    },
    {
      "cell_type": "markdown",
      "metadata": {
        "id": "4xo1VQMlzX69"
      },
      "source": [
        "Once again, the bottom artists are also representative of both genres, clearly these genres are much more even.\n"
      ]
    },
    {
      "cell_type": "code",
      "execution_count": null,
      "metadata": {
        "colab": {
          "base_uri": "https://localhost:8080/",
          "height": 112
        },
        "id": "RWqdK8lQO018",
        "outputId": "9f0478c6-b497-4899-ebaf-c46635c46c42"
      },
      "outputs": [
        {
          "data": {
            "text/html": [
              "\n",
              "  <div id=\"df-834d6be7-d69f-4c0b-bc20-8a294cfbdab6\">\n",
              "    <div class=\"colab-df-container\">\n",
              "      <div>\n",
              "<style scoped>\n",
              "    .dataframe tbody tr th:only-of-type {\n",
              "        vertical-align: middle;\n",
              "    }\n",
              "\n",
              "    .dataframe tbody tr th {\n",
              "        vertical-align: top;\n",
              "    }\n",
              "\n",
              "    .dataframe thead th {\n",
              "        text-align: right;\n",
              "    }\n",
              "</style>\n",
              "<table border=\"1\" class=\"dataframe\">\n",
              "  <thead>\n",
              "    <tr style=\"text-align: right;\">\n",
              "      <th></th>\n",
              "      <th>Genre</th>\n",
              "      <th>Songs</th>\n",
              "      <th>Popularity</th>\n",
              "      <th>Lyric Count</th>\n",
              "      <th>Sentiment</th>\n",
              "    </tr>\n",
              "  </thead>\n",
              "  <tbody>\n",
              "    <tr>\n",
              "      <th>0</th>\n",
              "      <td>Black Music</td>\n",
              "      <td>257.049447</td>\n",
              "      <td>12.254799</td>\n",
              "      <td>433.803440</td>\n",
              "      <td>0.130881</td>\n",
              "    </tr>\n",
              "    <tr>\n",
              "      <th>1</th>\n",
              "      <td>Hip Hop</td>\n",
              "      <td>203.871735</td>\n",
              "      <td>6.926840</td>\n",
              "      <td>492.006746</td>\n",
              "      <td>0.031619</td>\n",
              "    </tr>\n",
              "  </tbody>\n",
              "</table>\n",
              "</div>\n",
              "      <button class=\"colab-df-convert\" onclick=\"convertToInteractive('df-834d6be7-d69f-4c0b-bc20-8a294cfbdab6')\"\n",
              "              title=\"Convert this dataframe to an interactive table.\"\n",
              "              style=\"display:none;\">\n",
              "        \n",
              "  <svg xmlns=\"http://www.w3.org/2000/svg\" height=\"24px\"viewBox=\"0 0 24 24\"\n",
              "       width=\"24px\">\n",
              "    <path d=\"M0 0h24v24H0V0z\" fill=\"none\"/>\n",
              "    <path d=\"M18.56 5.44l.94 2.06.94-2.06 2.06-.94-2.06-.94-.94-2.06-.94 2.06-2.06.94zm-11 1L8.5 8.5l.94-2.06 2.06-.94-2.06-.94L8.5 2.5l-.94 2.06-2.06.94zm10 10l.94 2.06.94-2.06 2.06-.94-2.06-.94-.94-2.06-.94 2.06-2.06.94z\"/><path d=\"M17.41 7.96l-1.37-1.37c-.4-.4-.92-.59-1.43-.59-.52 0-1.04.2-1.43.59L10.3 9.45l-7.72 7.72c-.78.78-.78 2.05 0 2.83L4 21.41c.39.39.9.59 1.41.59.51 0 1.02-.2 1.41-.59l7.78-7.78 2.81-2.81c.8-.78.8-2.07 0-2.86zM5.41 20L4 18.59l7.72-7.72 1.47 1.35L5.41 20z\"/>\n",
              "  </svg>\n",
              "      </button>\n",
              "      \n",
              "  <style>\n",
              "    .colab-df-container {\n",
              "      display:flex;\n",
              "      flex-wrap:wrap;\n",
              "      gap: 12px;\n",
              "    }\n",
              "\n",
              "    .colab-df-convert {\n",
              "      background-color: #E8F0FE;\n",
              "      border: none;\n",
              "      border-radius: 50%;\n",
              "      cursor: pointer;\n",
              "      display: none;\n",
              "      fill: #1967D2;\n",
              "      height: 32px;\n",
              "      padding: 0 0 0 0;\n",
              "      width: 32px;\n",
              "    }\n",
              "\n",
              "    .colab-df-convert:hover {\n",
              "      background-color: #E2EBFA;\n",
              "      box-shadow: 0px 1px 2px rgba(60, 64, 67, 0.3), 0px 1px 3px 1px rgba(60, 64, 67, 0.15);\n",
              "      fill: #174EA6;\n",
              "    }\n",
              "\n",
              "    [theme=dark] .colab-df-convert {\n",
              "      background-color: #3B4455;\n",
              "      fill: #D2E3FC;\n",
              "    }\n",
              "\n",
              "    [theme=dark] .colab-df-convert:hover {\n",
              "      background-color: #434B5C;\n",
              "      box-shadow: 0px 1px 3px 1px rgba(0, 0, 0, 0.15);\n",
              "      filter: drop-shadow(0px 1px 2px rgba(0, 0, 0, 0.3));\n",
              "      fill: #FFFFFF;\n",
              "    }\n",
              "  </style>\n",
              "\n",
              "      <script>\n",
              "        const buttonEl =\n",
              "          document.querySelector('#df-834d6be7-d69f-4c0b-bc20-8a294cfbdab6 button.colab-df-convert');\n",
              "        buttonEl.style.display =\n",
              "          google.colab.kernel.accessAllowed ? 'block' : 'none';\n",
              "\n",
              "        async function convertToInteractive(key) {\n",
              "          const element = document.querySelector('#df-834d6be7-d69f-4c0b-bc20-8a294cfbdab6');\n",
              "          const dataTable =\n",
              "            await google.colab.kernel.invokeFunction('convertToInteractive',\n",
              "                                                     [key], {});\n",
              "          if (!dataTable) return;\n",
              "\n",
              "          const docLinkHtml = 'Like what you see? Visit the ' +\n",
              "            '<a target=\"_blank\" href=https://colab.research.google.com/notebooks/data_table.ipynb>data table notebook</a>'\n",
              "            + ' to learn more about interactive tables.';\n",
              "          element.innerHTML = '';\n",
              "          dataTable['output_type'] = 'display_data';\n",
              "          await google.colab.output.renderOutput(dataTable, element);\n",
              "          const docLink = document.createElement('div');\n",
              "          docLink.innerHTML = docLinkHtml;\n",
              "          element.appendChild(docLink);\n",
              "        }\n",
              "      </script>\n",
              "    </div>\n",
              "  </div>\n",
              "  "
            ],
            "text/plain": [
              "         Genre       Songs  Popularity  Lyric Count  Sentiment\n",
              "0  Black Music  257.049447   12.254799   433.803440   0.130881\n",
              "1      Hip Hop  203.871735    6.926840   492.006746   0.031619"
            ]
          },
          "execution_count": 34,
          "metadata": {},
          "output_type": "execute_result"
        }
      ],
      "source": [
        "#sentiment lower for hip hop\n",
        "df_2 = df_sentiment2.groupby('Genre').mean().reset_index()\n",
        "df_2"
      ]
    },
    {
      "cell_type": "markdown",
      "metadata": {
        "id": "xyWJMLJwzg33"
      },
      "source": [
        "Using the mean tool we are able to see that there are some differences between the genres, notbale in popularity, but the sentiment of both is close."
      ]
    },
    {
      "cell_type": "markdown",
      "metadata": {
        "id": "5Kx0vjaBE5xF"
      },
      "source": [
        "# Modeling\n",
        "In this section, supervised learning models: Linear Regression, Logistic Regression, Decision Trees, Random Forest, and K Nearest Neighbors. As detialed below, we dicided to use binary classification models because of the structure of the data."
      ]
    },
    {
      "cell_type": "markdown",
      "metadata": {
        "id": "tf1dxPXLE1yW"
      },
      "source": [
        "## Linear Regression\n",
        "We first begin our modeling using linear regression. We aim to predict sentiment based on Genre, Song, Popularity and Lyric Count. \n",
        "\n",
        "We first select our x and y values, then preform a test train split with the testing batch being 20% of the data.\n"
      ]
    },
    {
      "cell_type": "code",
      "execution_count": null,
      "metadata": {
        "colab": {
          "base_uri": "https://localhost:8080/"
        },
        "id": "uCHUCxkeHFqZ",
        "outputId": "20122b3a-90cf-4798-89c8-0ba405553526"
      },
      "outputs": [
        {
          "name": "stderr",
          "output_type": "stream",
          "text": [
            "<ipython-input-35-8bc3a32ff0e0>:2: SettingWithCopyWarning: \n",
            "A value is trying to be set on a copy of a slice from a DataFrame.\n",
            "Try using .loc[row_indexer,col_indexer] = value instead\n",
            "\n",
            "See the caveats in the documentation: https://pandas.pydata.org/pandas-docs/stable/user_guide/indexing.html#returning-a-view-versus-a-copy\n",
            "  df_sentiment['Genre'] = df_sentiment['Genre'].apply(lambda x : 1 if(x == 'Jazz') else 0)\n"
          ]
        }
      ],
      "source": [
        "#defining the x and y\n",
        "df_sentiment['Genre'] = df_sentiment['Genre'].apply(lambda x : 1 if(x == 'Jazz') else 0)\n",
        "x = df_sentiment[['Genre','Songs','Popularity','Lyric Count']]\n",
        "y = df_sentiment['Sentiment']\n",
        "\n",
        "#creating a training and testing set\n",
        "x_train, x_test, y_train, y_test = train_test_split(x, y, test_size=0.2, random_state=42)"
      ]
    },
    {
      "cell_type": "code",
      "execution_count": null,
      "metadata": {
        "colab": {
          "base_uri": "https://localhost:8080/"
        },
        "id": "YgBC79XzLc1W",
        "outputId": "fb0beae7-c21b-4262-c6e0-fa5b9c9a2612"
      },
      "outputs": [
        {
          "data": {
            "text/plain": [
              "LinearRegression()"
            ]
          },
          "execution_count": 36,
          "metadata": {},
          "output_type": "execute_result"
        }
      ],
      "source": [
        "model = LinearRegression()\n",
        "model.fit(x_train, y_train)"
      ]
    },
    {
      "cell_type": "code",
      "execution_count": null,
      "metadata": {
        "colab": {
          "base_uri": "https://localhost:8080/",
          "height": 175
        },
        "id": "5FIQ5N5f8XWb",
        "outputId": "54e905b7-53f4-4f23-b2bc-3893603056f6"
      },
      "outputs": [
        {
          "data": {
            "text/html": [
              "\n",
              "  <div id=\"df-aeaf12cc-d800-402c-91f0-c86c623acce1\">\n",
              "    <div class=\"colab-df-container\">\n",
              "      <div>\n",
              "<style scoped>\n",
              "    .dataframe tbody tr th:only-of-type {\n",
              "        vertical-align: middle;\n",
              "    }\n",
              "\n",
              "    .dataframe tbody tr th {\n",
              "        vertical-align: top;\n",
              "    }\n",
              "\n",
              "    .dataframe thead th {\n",
              "        text-align: right;\n",
              "    }\n",
              "</style>\n",
              "<table border=\"1\" class=\"dataframe\">\n",
              "  <thead>\n",
              "    <tr style=\"text-align: right;\">\n",
              "      <th></th>\n",
              "      <th>Coefficient</th>\n",
              "    </tr>\n",
              "  </thead>\n",
              "  <tbody>\n",
              "    <tr>\n",
              "      <th>Genre</th>\n",
              "      <td>0.495314</td>\n",
              "    </tr>\n",
              "    <tr>\n",
              "      <th>Songs</th>\n",
              "      <td>0.000074</td>\n",
              "    </tr>\n",
              "    <tr>\n",
              "      <th>Popularity</th>\n",
              "      <td>0.002592</td>\n",
              "    </tr>\n",
              "    <tr>\n",
              "      <th>Lyric Count</th>\n",
              "      <td>-0.000081</td>\n",
              "    </tr>\n",
              "  </tbody>\n",
              "</table>\n",
              "</div>\n",
              "      <button class=\"colab-df-convert\" onclick=\"convertToInteractive('df-aeaf12cc-d800-402c-91f0-c86c623acce1')\"\n",
              "              title=\"Convert this dataframe to an interactive table.\"\n",
              "              style=\"display:none;\">\n",
              "        \n",
              "  <svg xmlns=\"http://www.w3.org/2000/svg\" height=\"24px\"viewBox=\"0 0 24 24\"\n",
              "       width=\"24px\">\n",
              "    <path d=\"M0 0h24v24H0V0z\" fill=\"none\"/>\n",
              "    <path d=\"M18.56 5.44l.94 2.06.94-2.06 2.06-.94-2.06-.94-.94-2.06-.94 2.06-2.06.94zm-11 1L8.5 8.5l.94-2.06 2.06-.94-2.06-.94L8.5 2.5l-.94 2.06-2.06.94zm10 10l.94 2.06.94-2.06 2.06-.94-2.06-.94-.94-2.06-.94 2.06-2.06.94z\"/><path d=\"M17.41 7.96l-1.37-1.37c-.4-.4-.92-.59-1.43-.59-.52 0-1.04.2-1.43.59L10.3 9.45l-7.72 7.72c-.78.78-.78 2.05 0 2.83L4 21.41c.39.39.9.59 1.41.59.51 0 1.02-.2 1.41-.59l7.78-7.78 2.81-2.81c.8-.78.8-2.07 0-2.86zM5.41 20L4 18.59l7.72-7.72 1.47 1.35L5.41 20z\"/>\n",
              "  </svg>\n",
              "      </button>\n",
              "      \n",
              "  <style>\n",
              "    .colab-df-container {\n",
              "      display:flex;\n",
              "      flex-wrap:wrap;\n",
              "      gap: 12px;\n",
              "    }\n",
              "\n",
              "    .colab-df-convert {\n",
              "      background-color: #E8F0FE;\n",
              "      border: none;\n",
              "      border-radius: 50%;\n",
              "      cursor: pointer;\n",
              "      display: none;\n",
              "      fill: #1967D2;\n",
              "      height: 32px;\n",
              "      padding: 0 0 0 0;\n",
              "      width: 32px;\n",
              "    }\n",
              "\n",
              "    .colab-df-convert:hover {\n",
              "      background-color: #E2EBFA;\n",
              "      box-shadow: 0px 1px 2px rgba(60, 64, 67, 0.3), 0px 1px 3px 1px rgba(60, 64, 67, 0.15);\n",
              "      fill: #174EA6;\n",
              "    }\n",
              "\n",
              "    [theme=dark] .colab-df-convert {\n",
              "      background-color: #3B4455;\n",
              "      fill: #D2E3FC;\n",
              "    }\n",
              "\n",
              "    [theme=dark] .colab-df-convert:hover {\n",
              "      background-color: #434B5C;\n",
              "      box-shadow: 0px 1px 3px 1px rgba(0, 0, 0, 0.15);\n",
              "      filter: drop-shadow(0px 1px 2px rgba(0, 0, 0, 0.3));\n",
              "      fill: #FFFFFF;\n",
              "    }\n",
              "  </style>\n",
              "\n",
              "      <script>\n",
              "        const buttonEl =\n",
              "          document.querySelector('#df-aeaf12cc-d800-402c-91f0-c86c623acce1 button.colab-df-convert');\n",
              "        buttonEl.style.display =\n",
              "          google.colab.kernel.accessAllowed ? 'block' : 'none';\n",
              "\n",
              "        async function convertToInteractive(key) {\n",
              "          const element = document.querySelector('#df-aeaf12cc-d800-402c-91f0-c86c623acce1');\n",
              "          const dataTable =\n",
              "            await google.colab.kernel.invokeFunction('convertToInteractive',\n",
              "                                                     [key], {});\n",
              "          if (!dataTable) return;\n",
              "\n",
              "          const docLinkHtml = 'Like what you see? Visit the ' +\n",
              "            '<a target=\"_blank\" href=https://colab.research.google.com/notebooks/data_table.ipynb>data table notebook</a>'\n",
              "            + ' to learn more about interactive tables.';\n",
              "          element.innerHTML = '';\n",
              "          dataTable['output_type'] = 'display_data';\n",
              "          await google.colab.output.renderOutput(dataTable, element);\n",
              "          const docLink = document.createElement('div');\n",
              "          docLink.innerHTML = docLinkHtml;\n",
              "          element.appendChild(docLink);\n",
              "        }\n",
              "      </script>\n",
              "    </div>\n",
              "  </div>\n",
              "  "
            ],
            "text/plain": [
              "             Coefficient\n",
              "Genre           0.495314\n",
              "Songs           0.000074\n",
              "Popularity      0.002592\n",
              "Lyric Count    -0.000081"
            ]
          },
          "execution_count": 37,
          "metadata": {},
          "output_type": "execute_result"
        }
      ],
      "source": [
        "coeff_parameter = pd.DataFrame(model.coef_, x.columns,columns=['Coefficient'])\n",
        "coeff_parameter"
      ]
    },
    {
      "cell_type": "code",
      "execution_count": null,
      "metadata": {
        "colab": {
          "base_uri": "https://localhost:8080/",
          "height": 351
        },
        "id": "KwJtxvjFE7f7",
        "outputId": "cc4a6bde-2ba8-4487-9e0f-39fdb2163f6d"
      },
      "outputs": [
        {
          "name": "stderr",
          "output_type": "stream",
          "text": [
            "/usr/local/lib/python3.8/dist-packages/seaborn/_decorators.py:36: FutureWarning: Pass the following variables as keyword args: x, y. From version 0.12, the only valid positional argument will be `data`, and passing other arguments without an explicit keyword will result in an error or misinterpretation.\n",
            "  warnings.warn(\n"
          ]
        },
        {
          "data": {
            "text/plain": [
              "<matplotlib.axes._subplots.AxesSubplot at 0x7fe998025a30>"
            ]
          },
          "execution_count": 38,
          "metadata": {},
          "output_type": "execute_result"
        },
        {
          "data": {
            "image/png": "[encoded data removed]",
            "text/plain": [
              "<Figure size 432x288 with 1 Axes>"
            ]
          },
          "metadata": {
            "needs_background": "light"
          },
          "output_type": "display_data"
        }
      ],
      "source": [
        "y_pred = model.predict(x_test)\n",
        "sns.regplot(y_test,y_pred)"
      ]
    },
    {
      "cell_type": "code",
      "execution_count": null,
      "metadata": {
        "colab": {
          "base_uri": "https://localhost:8080/"
        },
        "id": "pol2Wyb3PaV3",
        "outputId": "2ba84720-e210-4571-e2fe-0654df7a411f"
      },
      "outputs": [
        {
          "name": "stdout",
          "output_type": "stream",
          "text": [
            "0.10116632435174222\n"
          ]
        }
      ],
      "source": [
        "print(r2_score(y_test, y_pred))"
      ]
    },
    {
      "cell_type": "markdown",
      "metadata": {
        "id": "UC2cuWEuJaQK"
      },
      "source": [
        "We use the r squared score to measure how well the model fit to the data. As you can see from the low r squared score, simple linear regression does a poor job at predicting the sentiment based on Genre, Songs, Popularity, and Lyric Count.\n",
        "\n",
        "The graph shows that that the model is not predicting the values of sentiment well.\n",
        "\n",
        "We instead descide to instead explore binary classification models to predeict if the genre since it is the only binary value in the dataframe.\n",
        "We also believe that such models will have higher accuarcy than logistic regression. We believe this is the case because Genre has the highest coefficent in the linear regression. Changes in genre have the largest impact on changes in sentiment."
      ]
    },
    {
      "cell_type": "markdown",
      "metadata": {
        "id": "Z5ZhHob9O5RE"
      },
      "source": [
        "##Logistic Regression\n",
        "We now move onto using Logistic Regression to predict if a genre is Jazz or Grunge based on Songs, Popularity, Lyric Count, and Sentiment. We use a box plot to visualize the spread of the data, and as we saw previously, Jazz, on average, has higher sentiment. \n",
        "\n",
        "We follw the same steps as before: defining what columns will be used as x and y as well as doing a 20-80 test train split before fitting and testing the model."
      ]
    },
    {
      "cell_type": "code",
      "execution_count": null,
      "metadata": {
        "colab": {
          "base_uri": "https://localhost:8080/",
          "height": 312
        },
        "id": "uD766jrW9CRp",
        "outputId": "78a70c47-db78-4dd3-d766-3c092752696b"
      },
      "outputs": [
        {
          "data": {
            "text/plain": [
              "[Text(0.5, 1.0, 'Boxplot of sentiment of genres')]"
            ]
          },
          "execution_count": 40,
          "metadata": {},
          "output_type": "execute_result"
        },
        {
          "data": {
            "image/png": "[encoded data removed]",
            "text/plain": [
              "<Figure size 432x288 with 1 Axes>"
            ]
          },
          "metadata": {
            "needs_background": "light"
          },
          "output_type": "display_data"
        }
      ],
      "source": [
        "sns.boxplot(y = 'Sentiment', x = 'Genre', data = df_sentiment).set(title = 'Boxplot of sentiment of genres')"
      ]
    },
    {
      "cell_type": "code",
      "execution_count": null,
      "metadata": {
        "id": "2h5dSBpRXaRk"
      },
      "outputs": [],
      "source": [
        "x_log = df_sentiment[['Songs','Popularity','Lyric Count', 'Sentiment']]\n",
        "y_log = df_sentiment['Genre']\n",
        "\n",
        "#creating a training and testing set\n",
        "x_train_log, x_test_log, y_train_log, y_test_log = train_test_split(x_log, y_log, test_size=0.2, random_state=42)"
      ]
    },
    {
      "cell_type": "code",
      "execution_count": null,
      "metadata": {
        "id": "UlliMgSpXglE"
      },
      "outputs": [],
      "source": [
        "logreg = LogisticRegression()\n",
        "logreg.fit(x_train_log, y_train_log)\n",
        "log_pred = logreg.predict(x_test_log)\n",
        "log_pred = logreg.predict(x_test_log)"
      ]
    },
    {
      "cell_type": "code",
      "execution_count": null,
      "metadata": {
        "colab": {
          "base_uri": "https://localhost:8080/"
        },
        "id": "QtDUdWsXftMk",
        "outputId": "74e44c42-9137-4cba-c326-b519de9b88aa"
      },
      "outputs": [
        {
          "name": "stdout",
          "output_type": "stream",
          "text": [
            "Accuracy: 0.7230443974630021\n"
          ]
        }
      ],
      "source": [
        "print(\"Accuracy:\",metrics.accuracy_score(y_test_log, log_pred))"
      ]
    },
    {
      "cell_type": "markdown",
      "metadata": {
        "id": "aSkbApfdWO-0"
      },
      "source": [
        "We use accuay score to asses the preformance of our binary classification models. As we can see, the Linear Regression does a much better job at predicting whether the genre is Jazz or Grunge. However, we want to investiage if we can get a better accuracy score, so we try out a few more powerful models in the next few sections. "
      ]
    },
    {
      "cell_type": "markdown",
      "metadata": {
        "id": "LNAiGEyCHjAp"
      },
      "source": [
        "##Decision Trees\n",
        "We next move on to using ML algorithms. The first being a decision tree classifier.  We follow the same x, y selection and test train split steps."
      ]
    },
    {
      "cell_type": "code",
      "execution_count": null,
      "metadata": {
        "id": "aIVsjqoOHiiE"
      },
      "outputs": [],
      "source": [
        "x_clf = df_sentiment[['Songs','Popularity','Lyric Count', 'Sentiment']]\n",
        "y_clf = df_sentiment['Genre']\n",
        "\n",
        "#creating a training and testing set\n",
        "x_train_clf, x_test_clf, y_train_clf, y_test_clf = train_test_split(x_clf, y_clf, test_size=0.2, random_state=42)"
      ]
    },
    {
      "cell_type": "code",
      "execution_count": null,
      "metadata": {
        "id": "sL69bRMjIiL3"
      },
      "outputs": [],
      "source": [
        "clf = DecisionTreeClassifier()\n",
        "\n",
        "clf = clf.fit(x_train_clf,y_train_clf)\n",
        "\n",
        "y_pred_clf = clf.predict(x_test_clf)"
      ]
    },
    {
      "cell_type": "code",
      "execution_count": null,
      "metadata": {
        "colab": {
          "base_uri": "https://localhost:8080/"
        },
        "id": "_LvYFbXJJKHH",
        "outputId": "47e7b950-8636-4401-df96-5ce02517e53f"
      },
      "outputs": [
        {
          "name": "stdout",
          "output_type": "stream",
          "text": [
            "Accuracy: 0.959830866807611\n"
          ]
        }
      ],
      "source": [
        "print(\"Accuracy:\",metrics.accuracy_score(y_test_clf, y_pred_clf))"
      ]
    },
    {
      "cell_type": "markdown",
      "metadata": {
        "id": "kAJBR06OeoBy"
      },
      "source": [
        "Using accuracy score, we see that this more complex model preforms better at predicting genre than logistic regression. Though the model accuracy is very high, we decide to try to tune the hyperparamaters of the model to see if we can get a higher accuracy. After verying the max depth value, we find that increasing it to 15 or above leads to a higher accuarcy. However, increasing the depth of a decision tree leads to overfitting. Since the accuracy is already high, we do not see a benefit of setting a max depth of 15+ to get slighly better accuracy."
      ]
    },
    {
      "cell_type": "code",
      "execution_count": null,
      "metadata": {
        "colab": {
          "base_uri": "https://localhost:8080/"
        },
        "id": "3er92kr7fdHt",
        "outputId": "95b002a9-cebc-46c7-bee8-1781f8623407"
      },
      "outputs": [
        {
          "name": "stdout",
          "output_type": "stream",
          "text": [
            "Accuracy: 0.9605355884425651\n"
          ]
        }
      ],
      "source": [
        "clf2 = DecisionTreeClassifier(criterion=\"entropy\", max_depth=15)\n",
        "\n",
        "clf2 = clf2.fit(x_train_clf,y_train_clf)\n",
        "\n",
        "y_pred_clf2 = clf2.predict(x_test_clf)\n",
        "\n",
        "print(\"Accuracy:\",metrics.accuracy_score(y_test_clf, y_pred_clf2))"
      ]
    },
    {
      "cell_type": "markdown",
      "metadata": {
        "id": "Tw20pwGIcwb3"
      },
      "source": [
        "##Random Forest\n",
        "We then try our next ML algorithm: Random Forests. Because Random Forest uses a \"forest\" of decision tress, we expect the accuracy to be higher using this algorithm."
      ]
    },
    {
      "cell_type": "code",
      "execution_count": null,
      "metadata": {
        "id": "WxP0fKM_hGQd"
      },
      "outputs": [],
      "source": [
        "x_rf = df_sentiment[['Songs','Popularity','Lyric Count', 'Sentiment']]\n",
        "y_rf = df_sentiment['Genre']\n",
        "\n",
        "#creating a training and testing set\n",
        "x_train_rf, x_test_rf, y_train_rf, y_test_rf = train_test_split(x_rf, y_rf, test_size=0.2, random_state=42)"
      ]
    },
    {
      "cell_type": "code",
      "execution_count": null,
      "metadata": {
        "id": "5fiujW4XZgyf"
      },
      "outputs": [],
      "source": [
        "rf=RandomForestClassifier(n_estimators=100)\n",
        "rf.fit(x_train_rf,y_train_rf)\n",
        "y_pred=rf.predict(x_test_rf)"
      ]
    },
    {
      "cell_type": "code",
      "execution_count": null,
      "metadata": {
        "colab": {
          "base_uri": "https://localhost:8080/"
        },
        "id": "co-7NNc9ex76",
        "outputId": "0954c538-15dc-490b-decd-2982a73225d7"
      },
      "outputs": [
        {
          "name": "stdout",
          "output_type": "stream",
          "text": [
            "Accuracy: 0.9718111346018323\n"
          ]
        }
      ],
      "source": [
        "print(\"Accuracy:\",metrics.accuracy_score(y_test_rf, y_pred))"
      ]
    },
    {
      "cell_type": "markdown",
      "metadata": {
        "id": "VoJv7xSeiGNo"
      },
      "source": [
        "We do find that tha accuracy score is slightly higher than the Decision tree defined above. Both models do predict well. However, if we had to choose to use one model over the other, we would opt for the Random Forest classifier. Not only is it more accurate, but it removes the issue of overfitting as discussed in the previous section. "
      ]
    },
    {
      "cell_type": "markdown",
      "metadata": {
        "id": "xfrn5DzEeyal"
      },
      "source": [
        "##K Nearest Neighbors\n",
        "Lastly, we utalize K nearest neighbors. We can see that the accuarcy is not as high as pervious models used. However, we need to find the best k value to avoid over or under fitting. We notice that as we increase the number of neighbors, the accuarcy does not improve much. Therefore, 3 is the optimal number of neighbors"
      ]
    },
    {
      "cell_type": "code",
      "execution_count": null,
      "metadata": {
        "id": "undadpYJez5Q"
      },
      "outputs": [],
      "source": [
        "x_knn = df_sentiment[['Songs','Popularity','Lyric Count', 'Sentiment']]\n",
        "y_knn = df_sentiment['Genre']\n",
        "\n",
        "#creating a training and testing set\n",
        "x_train_knn, x_test_knn, y_train_knn, y_test_knn = train_test_split(x_knn, y_knn, test_size=0.2, random_state=42)"
      ]
    },
    {
      "cell_type": "code",
      "execution_count": null,
      "metadata": {
        "colab": {
          "base_uri": "https://localhost:8080/"
        },
        "id": "aAv0oOg0lIE4",
        "outputId": "7313f91a-c822-489f-c326-2c57346b85e1"
      },
      "outputs": [
        {
          "data": {
            "text/plain": [
              "KNeighborsClassifier(n_neighbors=3)"
            ]
          },
          "execution_count": 88,
          "metadata": {},
          "output_type": "execute_result"
        }
      ],
      "source": [
        "knn_model = KNeighborsClassifier(n_neighbors=3)\n",
        "knn_model.fit(x_train_knn, y_train_knn)"
      ]
    },
    {
      "cell_type": "code",
      "execution_count": null,
      "metadata": {
        "id": "Dgy6oLFtmeZ-"
      },
      "outputs": [],
      "source": [
        "test_preds = knn_model.predict(x_test_knn)"
      ]
    },
    {
      "cell_type": "code",
      "execution_count": null,
      "metadata": {
        "colab": {
          "base_uri": "https://localhost:8080/"
        },
        "id": "Nhg1JGI5mtbM",
        "outputId": "3a3d73ff-7d2f-4df5-d9f4-2336cd41d32c"
      },
      "outputs": [
        {
          "name": "stdout",
          "output_type": "stream",
          "text": [
            "0.8992248062015504\n"
          ]
        }
      ],
      "source": [
        "print(knn_model.score(x_test_knn, y_test_knn))"
      ]
    },
    {
      "cell_type": "markdown",
      "metadata": {
        "id": "GV_66DrPnZCD"
      },
      "source": [
        "#Modeling with Different Genres"
      ]
    },
    {
      "cell_type": "markdown",
      "metadata": {
        "id": "IBD0nFjeSEa1"
      },
      "source": [
        "##Logistic Regression now with hip hop and black music\n",
        "In repeating the same steps as above, but now with the genres of hip hop and black music, we assume that these binary classification models will not do as well. We believe that this is the case because the difference between the average sentiment is not as large as with Jazz and Grunge. Black Music and Hip Hop are similar Genres which is why we believe that the sentiment is similar for the two genres."
      ]
    },
    {
      "cell_type": "code",
      "execution_count": null,
      "metadata": {
        "colab": {
          "base_uri": "https://localhost:8080/"
        },
        "id": "4-Zo8mtEUOYP",
        "outputId": "d8678dc6-dc5c-4a86-a3ae-729e59373e30"
      },
      "outputs": [
        {
          "name": "stderr",
          "output_type": "stream",
          "text": [
            "<ipython-input-91-06ca4017266b>:2: SettingWithCopyWarning: \n",
            "A value is trying to be set on a copy of a slice from a DataFrame.\n",
            "Try using .loc[row_indexer,col_indexer] = value instead\n",
            "\n",
            "See the caveats in the documentation: https://pandas.pydata.org/pandas-docs/stable/user_guide/indexing.html#returning-a-view-versus-a-copy\n",
            "  df_sentiment2['Genre'] = df_sentiment2['Genre'].apply(lambda x : 1 if(x == \"Hip Hop\") else 0)\n"
          ]
        }
      ],
      "source": [
        "#assigning the categorical data to 0 and 1\n",
        "df_sentiment2['Genre'] = df_sentiment2['Genre'].apply(lambda x : 1 if(x == \"Hip Hop\") else 0)"
      ]
    },
    {
      "cell_type": "code",
      "execution_count": null,
      "metadata": {
        "id": "LeNuAmXbtoSK"
      },
      "outputs": [],
      "source": [
        "x_log = df_sentiment2[['Songs','Popularity','Lyric Count', 'Sentiment']]\n",
        "y_log = df_sentiment2['Genre']\n",
        "#creating a training and testing set\n",
        "x_train_log, x_test_log, y_train_log, y_test_log = train_test_split(x_log, y_log, test_size=0.2, random_state=42)"
      ]
    },
    {
      "cell_type": "code",
      "execution_count": null,
      "metadata": {
        "id": "Ia1JiCMxMmyE"
      },
      "outputs": [],
      "source": [
        "logreg = LogisticRegression()\n",
        "logreg.fit(x_train_log, y_train_log)\n",
        "log_pred = logreg.predict(x_test_log)\n",
        "log_pred = logreg.predict(x_test_log)"
      ]
    },
    {
      "cell_type": "code",
      "execution_count": null,
      "metadata": {
        "colab": {
          "base_uri": "https://localhost:8080/"
        },
        "id": "hAk7y1MFRf9W",
        "outputId": "74b09a15-1fb7-4185-9523-53c7a0b7de17"
      },
      "outputs": [
        {
          "name": "stdout",
          "output_type": "stream",
          "text": [
            "Accuracy: 0.6374889478337754\n"
          ]
        }
      ],
      "source": [
        "#lower than jazz/grunge ig because less difference in sentiment than the other two\n",
        "print(\"Accuracy:\",metrics.accuracy_score(y_test_log, log_pred))"
      ]
    },
    {
      "cell_type": "markdown",
      "metadata": {
        "id": "n89iHrbAyKFG"
      },
      "source": [
        "As we can see, linear regression does not do as well in predicting the Genre. We believe that the next few models will work better, but not as well as they did in pervious sections. "
      ]
    },
    {
      "cell_type": "markdown",
      "metadata": {
        "id": "J6THnJIHSRXt"
      },
      "source": [
        "##Decision Trees"
      ]
    },
    {
      "cell_type": "code",
      "execution_count": null,
      "metadata": {
        "id": "6lfZt-dhRl1F"
      },
      "outputs": [],
      "source": [
        "x_clf = df_sentiment2[['Songs','Popularity','Lyric Count', 'Sentiment']]\n",
        "y_clf = df_sentiment2['Genre']\n",
        "\n",
        "#creating a training and testing set\n",
        "x_train_clf, x_test_clf, y_train_clf, y_test_clf = train_test_split(x_clf, y_clf, test_size=0.2, random_state=42)"
      ]
    },
    {
      "cell_type": "code",
      "execution_count": null,
      "metadata": {
        "id": "OY0_aJYRSYpF"
      },
      "outputs": [],
      "source": [
        "clf = DecisionTreeClassifier()\n",
        "\n",
        "clf = clf.fit(x_train_clf,y_train_clf)\n",
        "\n",
        "y_pred_clf = clf.predict(x_test_clf)"
      ]
    },
    {
      "cell_type": "code",
      "execution_count": null,
      "metadata": {
        "colab": {
          "base_uri": "https://localhost:8080/"
        },
        "id": "7K3Lz72tSb0O",
        "outputId": "a912cf72-b954-4fca-f3ec-9bef4761b9f2"
      },
      "outputs": [
        {
          "name": "stdout",
          "output_type": "stream",
          "text": [
            "Accuracy: 0.6024167403477748\n"
          ]
        }
      ],
      "source": [
        "print(\"Accuracy:\",metrics.accuracy_score(y_test_clf, y_pred_clf))"
      ]
    },
    {
      "cell_type": "markdown",
      "metadata": {
        "id": "i_aqsDp4yjl6"
      },
      "source": [
        "Surprisingly, decision trees does not work better than logistic regression. However, the performance is not much worse. Therefore, we expect the random forest to work better than decison tress, but not as well as logistic regression."
      ]
    },
    {
      "cell_type": "markdown",
      "metadata": {
        "id": "VfF3Yji4ShiI"
      },
      "source": [
        "##Random Forest"
      ]
    },
    {
      "cell_type": "code",
      "execution_count": null,
      "metadata": {
        "id": "8HiKZwTkSeR7"
      },
      "outputs": [],
      "source": [
        "x_rf = df_sentiment2[['Songs','Popularity','Lyric Count', 'Sentiment']]\n",
        "y_rf = df_sentiment2['Genre']\n",
        "\n",
        "#creating a training and testing set\n",
        "x_train_rf, x_test_rf, y_train_rf, y_test_rf = train_test_split(x_rf, y_rf, test_size=0.2, random_state=42)"
      ]
    },
    {
      "cell_type": "code",
      "execution_count": null,
      "metadata": {
        "id": "If-M9XamSlzW"
      },
      "outputs": [],
      "source": [
        "rf=RandomForestClassifier(n_estimators=100)\n",
        "rf.fit(x_train_rf,y_train_rf)\n",
        "y_pred=rf.predict(x_test_rf)"
      ]
    },
    {
      "cell_type": "code",
      "execution_count": null,
      "metadata": {
        "colab": {
          "base_uri": "https://localhost:8080/"
        },
        "id": "n1W1bNIWSpLV",
        "outputId": "e63b9ac6-246c-464c-cfb1-cbb574290832"
      },
      "outputs": [
        {
          "name": "stdout",
          "output_type": "stream",
          "text": [
            "Accuracy: 0.6052166224580018\n"
          ]
        }
      ],
      "source": [
        "print(\"Accuracy:\",metrics.accuracy_score(y_test_rf, y_pred))"
      ]
    },
    {
      "cell_type": "markdown",
      "metadata": {
        "id": "BGcYiQzPy_2P"
      },
      "source": [
        "The Random Forest classifier hardly has a higher accuracy than decision trees."
      ]
    },
    {
      "cell_type": "markdown",
      "metadata": {
        "id": "S-Lj-gIOSvg2"
      },
      "source": [
        "##KFold"
      ]
    },
    {
      "cell_type": "code",
      "execution_count": null,
      "metadata": {
        "id": "4_AoubDASs1m"
      },
      "outputs": [],
      "source": [
        "x_knn = df_sentiment2[['Songs','Popularity','Lyric Count', 'Sentiment']]\n",
        "y_knn = df_sentiment2['Genre']\n",
        "\n",
        "#creating a training and testing set\n",
        "x_train_knn, x_test_knn, y_train_knn, y_test_knn = train_test_split(x_knn, y_knn, test_size=0.2, random_state=42)"
      ]
    },
    {
      "cell_type": "code",
      "execution_count": null,
      "metadata": {
        "id": "11_78tq3S9Li"
      },
      "outputs": [],
      "source": [
        "knn_model = KNeighborsClassifier(n_neighbors=2)\n",
        "knn_model.fit(x_train_knn, y_train_knn)\n",
        "test_preds = knn_model.predict(x_test_knn)"
      ]
    },
    {
      "cell_type": "code",
      "execution_count": null,
      "metadata": {
        "colab": {
          "base_uri": "https://localhost:8080/"
        },
        "id": "xq8y2OKpTAV7",
        "outputId": "026a8169-cf88-4e3a-a5f6-dfe31816953d"
      },
      "outputs": [
        {
          "name": "stdout",
          "output_type": "stream",
          "text": [
            "0.5887120542292956\n"
          ]
        }
      ],
      "source": [
        "print(knn_model.score(x_test_knn, y_test_knn))"
      ]
    },
    {
      "cell_type": "markdown",
      "metadata": {
        "id": "8ubFyP2ZzG-c"
      },
      "source": [
        "K Nearest Neighbor has the worse performance out of all the models tried above. However, none of the models performed terribly in classifying genre."
      ]
    },
    {
      "cell_type": "markdown",
      "metadata": {
        "id": "65b0pqTeY9Gv"
      },
      "source": [
        "#Conclusion"
      ]
    },
    {
      "cell_type": "markdown",
      "metadata": {
        "id": "S8mJkCOJZTPC"
      },
      "source": [
        "##EDA"
      ]
    },
    {
      "cell_type": "markdown",
      "metadata": {
        "id": "yGagvZjIzr-C"
      },
      "source": [
        "We began our EDA by looking at the data set as a whole, observing representation among top songs from the charts in Brazil. We cleaned out non-englis songs and went from there. We observed some clear over representation of genres such as Rock and Roll, and under representation of genres such as Electro Swing. \n",
        "We then observed lyric count and sentimentality, and found that genres such as Hip Hop were much heavier on the lyric count than others, which makes sense, but in some cases the differences were much greater than expected. \n",
        "We foudn that doing sentiment analysis on all 380k+ songs was not possible given the computational power at our disposal, and so we settled on identifying seemingly different and seemingly similar genres.\n",
        "Through this we were able to see key differences in lyric count and emotionality, as well as popularity across genres. Given recent musical trends most of the information served to reinforce what we already knew, but som aspects were much more intriguing to us, leading to our Modeling, where we wanted to explore and predictions or more applicable concepts we could make from our observations."
      ]
    },
    {
      "cell_type": "markdown",
      "metadata": {
        "id": "Acg4LKUlZVPK"
      },
      "source": [
        "##Modeling\n",
        "We began our modeling using regression to predict the sentiment of songs. However, we realized that such regression models do not preform well because of the strucutre of our data. However, we would still be able to acomplish the goal of our project by instead using classification models. \n",
        "\n",
        "We utilized multiple supervised classification models inclusinf logistic regression, decision tress, random forest, and K nearest neighbors. We evaluated their performance on different genres. We selected genres that we presumed were very different in terms of sentiment then selected two genres that we presumed would be similar in sentiment. \n",
        "\n",
        "Afer running and evaluating our models, we found that Random Forest models lead to the highest accuracy. That accuracy was highest for the dataframe that contained Jazz and Grunge. The same was true for the datafame that contained hip hop and Black music, though the accuarcy was not as high as the previous RF model.\n",
        "\n",
        "We found that the model that preformed the worst our first round of modeling was logistic regression, and the model that performed worst in our second set of modeling was k nearest neighbors. However, in our second set of modeling, there was not as a dramatic difference in model preformance compared to our first set of models. \n",
        "\n",
        "In conclusion, one lession we learned is to take time to really think about what models work best on the data you are working with. We jumped straight into linear regression and planned to use other regression models. However, after taking some time to brainstorm, we realized that classification models would make more sense given the data that we are working with."
      ]
    },
    {
      "cell_type": "markdown",
      "metadata": {
        "id": "OGQD8eSwZVG2"
      },
      "source": [
        "##Potential Next Steps & Value of Project"
      ]
    },
    {
      "cell_type": "markdown",
      "metadata": {
        "id": "gPhYioXXaigq"
      },
      "source": [
        "There is great value in a project like ours. Studying the correlation between song popularity and emotional messaging is relevant for those interested in whether or not mainstream music truly is positively/negatively affecting the mental health of listeners en masse. Just like how we assumed and demonstrated that average sentiment for a genre like jazz is opposite to grunge (jazz higher, grunge lower), let's assume any one of these genres were one of the most streamed in a given region. Would a popular genre with a negative sentiment result in higher crimes or mental health ailments? Would a popular genre with a positive sentiment result in higher reported citizen happiness or decreased national political tension? These are all theories but the findings from our project, like random forest models leading to high accuracy sentiment predictions, definetely lay a nice groundwork to take such a study to the next level. We envision a great next step to this project would be integrating societal status and general public opinion of a given region with the data we have now to determine how song sentiment and popularity affects a region or culture."
      ]
    }
  ],
  "metadata": {
    "colab": {
      "collapsed_sections": [
        "Acg4LKUlZVPK"
      ],
      "provenance": []
    },
    "kernelspec": {
      "display_name": "Python 3",
      "name": "python3"
    },
    "language_info": {
      "name": "python"
    }
  },
  "nbformat": 4,
  "nbformat_minor": 0
}
